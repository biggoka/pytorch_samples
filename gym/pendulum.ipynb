{
 "cells": [
  {
   "cell_type": "code",
   "execution_count": 1,
   "metadata": {},
   "outputs": [],
   "source": [
    "import gym\n",
    "import numpy as np\n",
    "import random\n",
    "import torch\n",
    "from itertools import count\n"
   ]
  },
  {
   "cell_type": "code",
   "execution_count": 2,
   "metadata": {},
   "outputs": [],
   "source": [
    "env = gym.make('MountainCarContinuous-v0')"
   ]
  },
  {
   "cell_type": "code",
   "execution_count": 3,
   "metadata": {},
   "outputs": [
    {
     "data": {
      "text/plain": [
       "Box(1,)"
      ]
     },
     "execution_count": 3,
     "metadata": {},
     "output_type": "execute_result"
    }
   ],
   "source": [
    "env.action_space"
   ]
  },
  {
   "cell_type": "code",
   "execution_count": 4,
   "metadata": {},
   "outputs": [
    {
     "data": {
      "text/plain": [
       "Box(2,)"
      ]
     },
     "execution_count": 4,
     "metadata": {},
     "output_type": "execute_result"
    }
   ],
   "source": [
    "env.observation_space"
   ]
  },
  {
   "cell_type": "code",
   "execution_count": 5,
   "metadata": {},
   "outputs": [
    {
     "data": {
      "text/plain": [
       "True"
      ]
     },
     "execution_count": 5,
     "metadata": {},
     "output_type": "execute_result"
    }
   ],
   "source": [
    "env.reset()\n",
    "env.render()"
   ]
  },
  {
   "cell_type": "code",
   "execution_count": 6,
   "metadata": {},
   "outputs": [
    {
     "data": {
      "text/plain": [
       "array([-0.50980259,  0.        ])"
      ]
     },
     "execution_count": 6,
     "metadata": {},
     "output_type": "execute_result"
    }
   ],
   "source": [
    "env.close()\n",
    "env.reset()"
   ]
  },
  {
   "cell_type": "code",
   "execution_count": 8,
   "metadata": {},
   "outputs": [],
   "source": [
    "from time import sleep\n",
    "\n",
    "for i in range(50):\n",
    "    env.step(env.action_space.sample())\n",
    "    env.render()\n",
    "    sleep(0.01)\n",
    "env.close()"
   ]
  },
  {
   "cell_type": "code",
   "execution_count": 9,
   "metadata": {},
   "outputs": [],
   "source": [
    "device = torch.device('cuda' if torch.cuda.is_available() else 'cpu')\n",
    "device = torch.device('cpu')"
   ]
  },
  {
   "cell_type": "code",
   "execution_count": 10,
   "metadata": {},
   "outputs": [],
   "source": [
    "class Memory():\n",
    "    def __init__(self, capacity=10000):\n",
    "        self.capacity = capacity\n",
    "        self.memory = []\n",
    "        self.short_memory = []\n",
    "        \n",
    "    def push(self, old_state, action, reward, new_state, final):\n",
    "        self.short_memory.append([old_state, action, reward, new_state, final])\n",
    "        \n",
    "    def commit(self, final=True): \n",
    "        \n",
    "#         R = self.short_memory[-1][2]\n",
    "#         for i in range(len(self.short_memory) - 1):\n",
    "#             R = self.short_memory[-2 -i][2] + R*0.99\n",
    "#             self.short_memory[-2 -i][2] = R\n",
    "        \n",
    "        if len(self.memory) + len(self.short_memory) < self.capacity:\n",
    "            self.memory.extend(self.short_memory)\n",
    "        else:\n",
    "            for memo in self.short_memory:\n",
    "                self.memory.insert(random.randint(0, len(self.memory) - 1), memo)\n",
    "                \n",
    "        self.memory = self.memory[:self.capacity]\n",
    "        self.short_memory = []"
   ]
  },
  {
   "cell_type": "code",
   "execution_count": 35,
   "metadata": {},
   "outputs": [],
   "source": [
    "class Actor_net(torch.nn.Module):\n",
    "    def __init__(self):\n",
    "        super(Actor_net, self).__init__()\n",
    "        self.model = torch.nn.Sequential(\n",
    "            torch.nn.Linear(2, 64),\n",
    "            torch.nn.LeakyReLU(),\n",
    "            torch.nn.Linear(64, 64),\n",
    "            torch.nn.LeakyReLU(),\n",
    "            torch.nn.Linear(64, 1),\n",
    "            torch.nn.Tanh(),\n",
    "        )\n",
    "    \n",
    "    def forward(self, x):\n",
    "        return self.model(x)\n",
    "    \n",
    "class Qritic_net(torch.nn.Module):\n",
    "    def __init__(self):\n",
    "        super(Qritic_net, self).__init__()\n",
    "        self.model = torch.nn.Sequential(\n",
    "            torch.nn.Linear(2, 64),\n",
    "#             torch.nn.LeakyReLU(inplace=True),\n",
    "#             torch.nn.Linear(32, 32),\n",
    "            torch.nn.LeakyReLU(),\n",
    "            torch.nn.Linear(64, 64),\n",
    "            torch.nn.LeakyReLU(),\n",
    "        )\n",
    "        \n",
    "        self.head = torch.nn.Sequential(\n",
    "            torch.nn.Linear(64 + 1, 64),\n",
    "            torch.nn.LeakyReLU(),\n",
    "            torch.nn.Linear(64, 1),\n",
    "        )\n",
    "    \n",
    "    def forward(self, state, actions):\n",
    "        out = self.model(state)\n",
    "        out = torch.cat((out, actions), dim=1)\n",
    "        out = self.head(out)\n",
    "        return out\n",
    "\n",
    "policy_actor, policy_critic = Actor_net().to(device), Qritic_net().to(device)\n",
    "target_actor, target_critic = Actor_net().to(device), Qritic_net().to(device)\n",
    "\n",
    "target_actor.load_state_dict(policy_actor.state_dict())\n",
    "target_critic.load_state_dict(policy_critic.state_dict())\n",
    "\n",
    "critic_optim = torch.optim.Adam(policy_critic.parameters(), lr=0.01)\n",
    "actor_optim = torch.optim.Adam(policy_actor.parameters(), lr=0.01)\n",
    "# optim = torch.optim.SGD(policy_net.parameters(), lr=0.001)\n",
    "\n",
    "# from torch.optim.lr_scheduler import StepLR\n",
    "# scheduler = StepLR(optim, step_size=100, gamma=0.84)    "
   ]
  },
  {
   "cell_type": "code",
   "execution_count": 44,
   "metadata": {
    "scrolled": false
   },
   "outputs": [
    {
     "name": "stdout",
     "output_type": "stream",
     "text": [
      "Episode   0:    199.000 iterations, eps=0.998800\n",
      "Episode  10:    199.000 iterations, eps=0.996805\n"
     ]
    }
   ],
   "source": [
    "# env = gym.make('CartPole-v0')\n",
    "# env._max_episode_steps = 500\n",
    "\n",
    "EPS = 0.999\n",
    "EPS_MIN = 0.05\n",
    "GAMMA = 0.999999\n",
    "\n",
    "\n",
    "def get_model_action(model, state, device, train=True):\n",
    "    global EPS, EPS_MIN, GAMMA\n",
    "    EPS = EPS * GAMMA\n",
    "    EPS = max(EPS, EPS_MIN)\n",
    "    \n",
    "    with torch.no_grad():\n",
    "        model_output = model(torch.FloatTensor(state).to(device).unsqueeze(0)).cpu().detach().numpy()\n",
    "        action = model_output[0]\n",
    "#             print(state, model_output, action)\n",
    "            \n",
    "    if train:\n",
    "        noise = (random.random() * 2) -1\n",
    "        noise = noise * EPS * 2.5\n",
    "        action = action + noise\n",
    "        action = np.clip(action, -1, 1)\n",
    "        \n",
    "        \n",
    "    return action\n",
    "\n",
    "def train(memory, device):\n",
    "    memory = memory.memory\n",
    "    try:\n",
    "        memory = random.sample(memory, 128)\n",
    "    except ValueError:\n",
    "        return\n",
    "\n",
    "    s0 = [x[0] for x in memory]\n",
    "    a = [x[1] for x in memory]\n",
    "    r = [[x[2]] for x in memory]\n",
    "    s1 = [x[3] for x in memory]\n",
    "    done = [1. if x[4] else 0. for x in memory]\n",
    "\n",
    "\n",
    "    s0 = torch.FloatTensor(s0).to(device)\n",
    "    s1 = torch.FloatTensor(s1).to(device)\n",
    "    a = torch.FloatTensor(a).to(device)\n",
    "    r = torch.FloatTensor(r).to(device)\n",
    "    done = torch.FloatTensor(done).to(device)\n",
    "\n",
    "    \n",
    "    y = target_critic(s1, target_actor(s1)).mul(0.99).add(r)\n",
    "    target = policy_critic(s0, a)\n",
    "#     loss = (y.detach() - target).view(-1).pow(2).mean()\n",
    "    loss = torch.nn.functional.smooth_l1_loss(y.detach(), target)\n",
    "    \n",
    "#     print('s0', s0)\n",
    "#     print('a', a)\n",
    "#     print('r', r)\n",
    "#     print('s1', s1)\n",
    "    \n",
    "#     print('y', y)\n",
    "#     print('target', target)\n",
    "#     print('loss', loss.item())\n",
    "#     assert False\n",
    "    \n",
    "    critic_optim.zero_grad()\n",
    "    torch.nn.utils.clip_grad_norm_(policy_critic.parameters(), 1)\n",
    "    loss.backward()\n",
    "    critic_optim.step()\n",
    "    \n",
    "    policy_actions = policy_actor(s0)\n",
    "    q_values = policy_critic(s0, policy_actions)\n",
    "    \n",
    "    loss = q_values.mean().mul(-1)\n",
    "    actor_optim.zero_grad()\n",
    "    loss.backward()\n",
    "    actor_optim.step()\n",
    "    \n",
    "#     print('policy_actions', policy_actions)\n",
    "#     print('q_values', q_values)\n",
    "#     print('loss', loss.item())\n",
    "#     assert False\n",
    "    \n",
    "    def soft_update(target_model, local_model, tau=0.1):\n",
    "        for target_param, local_param in zip(target_model.parameters(), local_model.parameters()):\n",
    "                target_param.data.copy_(tau*local_param.data + (1.0-tau)*target_param.data)\n",
    "                \n",
    "    soft_update(target_actor, policy_actor)\n",
    "    soft_update(target_critic, policy_critic)\n",
    "        \n",
    "#     scheduler.step()\n",
    "\n",
    "memory = Memory(capacity=100000)  \n",
    "len_mem = []\n",
    "cum_reward_mem = []\n",
    "\n",
    "try:\n",
    "    for episode in range(100000):\n",
    "        state = env.reset()\n",
    "\n",
    "        cum_reward = []\n",
    "        for i in count():\n",
    "#             env.render()\n",
    "\n",
    "            action = get_model_action(policy_actor, state, device)\n",
    "            old_state = state\n",
    "            state, reward, done, info = env.step(action)\n",
    "            \n",
    "#             reward = max(-0.1, state[0])\n",
    "#             reward *= 100\n",
    "\n",
    "            cum_reward.append(reward)\n",
    "\n",
    "            \n",
    "            if not done:\n",
    "                memory.push(old_state, action, reward, state, False)\n",
    "            else:\n",
    "                env.close()\n",
    "                len_mem.append(i)\n",
    "                cum_reward_mem.append(np.sum(cum_reward))\n",
    "\n",
    "#                 if state[0] >= 0.59:\n",
    "#                     reward = 100\n",
    "#                     final = False\n",
    "#                 else:\n",
    "#                     final = True\n",
    "                \n",
    "                memory.push(old_state, action, reward, state, True)\n",
    "                memory.commit()\n",
    "                break\n",
    "\n",
    "        \n",
    "        if episode % 10 == 0:\n",
    "            print('Episode {:3d}: {:10.3f} iterations, eps={:6.6f}'.format(episode, np.mean(len_mem[-100:]), EPS))\n",
    "        \n",
    "        train(memory, device)\n",
    "\n",
    "except KeyboardInterrupt:\n",
    "    env.close()"
   ]
  },
  {
   "cell_type": "code",
   "execution_count": 38,
   "metadata": {
    "scrolled": true
   },
   "outputs": [
    {
     "data": {
      "text/plain": [
       "[<matplotlib.lines.Line2D at 0x7f056b05b278>]"
      ]
     },
     "execution_count": 38,
     "metadata": {},
     "output_type": "execute_result"
    },
    {
     "data": {
      "image/png": "[encoded data removed]",
      "text/plain": [
       "<matplotlib.figure.Figure at 0x7f05507c2f60>"
      ]
     },
     "metadata": {},
     "output_type": "display_data"
    }
   ],
   "source": [
    "import matplotlib.pyplot as plt\n",
    "%matplotlib inline\n",
    "\n",
    "import pandas as pd\n",
    "\n",
    "\n",
    "plt.figure()\n",
    "plt.plot(len_mem, 'o')\n",
    "plt.plot(pd.Series(cum_reward_mem).rolling(100).mean().dropna().values, color='red')"
   ]
  },
  {
   "cell_type": "code",
   "execution_count": 27,
   "metadata": {
    "scrolled": false
   },
   "outputs": [
    {
     "name": "stdout",
     "output_type": "stream",
     "text": [
      "0\n",
      "[1.] -0.1\n",
      "[1.] -0.1\n",
      "[1.] -0.1\n",
      "[1.] -0.1\n",
      "[1.] -0.1\n",
      "[1.] -0.1\n",
      "[1.] -0.1\n",
      "[1.] -0.1\n",
      "[1.] -0.1\n",
      "[1.] -0.1\n",
      "[1.] -0.1\n",
      "[1.] -0.1\n",
      "[1.] -0.1\n",
      "[1.] -0.1\n",
      "[1.] -0.1\n",
      "[1.] -0.1\n",
      "[1.] -0.1\n",
      "[1.] -0.1\n",
      "[1.] -0.1\n",
      "[1.] -0.1\n",
      "[1.] -0.1\n",
      "[1.] -0.1\n",
      "[1.] -0.1\n",
      "[1.] -0.1\n",
      "[1.] -0.1\n",
      "[1.] -0.1\n",
      "[1.] -0.1\n",
      "[1.] -0.1\n",
      "[1.] -0.1\n",
      "[1.] -0.1\n",
      "[1.] -0.1\n",
      "[1.] -0.1\n",
      "[1.] -0.1\n",
      "[1.] -0.1\n",
      "[1.] -0.1\n",
      "[1.] -0.1\n",
      "[1.] -0.1\n",
      "[1.] -0.1\n",
      "[1.] -0.1\n",
      "[1.] -0.1\n",
      "[1.] -0.1\n",
      "[1.] -0.1\n",
      "[1.] -0.1\n",
      "[1.] -0.1\n",
      "[1.] -0.1\n",
      "[1.] -0.1\n",
      "[1.] -0.1\n",
      "[1.] -0.1\n",
      "[1.] -0.1\n",
      "[1.] -0.1\n",
      "[1.] -0.1\n",
      "[1.] -0.1\n",
      "[1.] -0.1\n",
      "[1.] -0.1\n",
      "[1.] -0.1\n",
      "[1.] -0.1\n",
      "[1.] -0.1\n",
      "[1.] -0.1\n",
      "[1.] -0.1\n",
      "[1.] -0.1\n",
      "[1.] -0.1\n",
      "[1.] -0.1\n",
      "[1.] -0.1\n",
      "[1.] -0.1\n",
      "[1.] -0.1\n",
      "[1.] -0.1\n",
      "[1.] -0.1\n",
      "[1.] -0.1\n",
      "[1.] -0.1\n",
      "[1.] -0.1\n",
      "[1.] -0.1\n",
      "[1.] -0.1\n",
      "[1.] -0.1\n",
      "[1.] -0.1\n",
      "[1.] -0.1\n",
      "[1.] -0.1\n",
      "[1.] -0.1\n",
      "[1.] -0.1\n",
      "[1.] -0.1\n",
      "[1.] -0.1\n",
      "[1.] -0.1\n",
      "[1.] -0.1\n",
      "[1.] -0.1\n",
      "[1.] -0.1\n",
      "[1.] -0.1\n",
      "[1.] -0.1\n",
      "[1.] -0.1\n",
      "[1.] -0.1\n",
      "[1.] -0.1\n",
      "[1.] -0.1\n",
      "[1.] -0.1\n",
      "[1.] -0.1\n",
      "[1.] -0.1\n",
      "[1.] -0.1\n",
      "[1.] -0.1\n",
      "[1.] -0.1\n",
      "[1.] -0.1\n",
      "[1.] -0.1\n",
      "[1.] -0.1\n",
      "[1.] -0.1\n",
      "[1.] -0.1\n",
      "[1.] -0.1\n",
      "[1.] -0.1\n",
      "[1.] -0.1\n",
      "[1.] -0.1\n",
      "[1.] -0.1\n",
      "[1.] -0.1\n",
      "[1.] -0.1\n",
      "[1.] -0.1\n",
      "[1.] -0.1\n",
      "[1.] -0.1\n",
      "[1.] -0.1\n",
      "[1.] -0.1\n",
      "[1.] -0.1\n",
      "[1.] -0.1\n",
      "[1.] -0.1\n",
      "[1.] -0.1\n",
      "[1.] -0.1\n",
      "[1.] -0.1\n",
      "[1.] -0.1\n",
      "[1.] -0.1\n",
      "[1.] -0.1\n",
      "[1.] -0.1\n",
      "[1.] -0.1\n",
      "[1.] -0.1\n",
      "[1.] -0.1\n",
      "[1.] -0.1\n",
      "[1.] -0.1\n",
      "[1.] -0.1\n",
      "[1.] -0.1\n",
      "[1.] -0.1\n",
      "[1.] -0.1\n",
      "[1.] -0.1\n",
      "[1.] -0.1\n",
      "[1.] -0.1\n",
      "[1.] -0.1\n",
      "[1.] -0.1\n",
      "[1.] -0.1\n",
      "[1.] -0.1\n",
      "[1.] -0.1\n",
      "[1.] -0.1\n",
      "[1.] -0.1\n",
      "[1.] -0.1\n",
      "[1.] -0.1\n",
      "[1.] -0.1\n",
      "[1.] -0.1\n",
      "[1.] -0.1\n",
      "[1.] -0.1\n",
      "[1.] -0.1\n",
      "[1.] -0.1\n",
      "[1.] -0.1\n",
      "[1.] -0.1\n",
      "[1.] -0.1\n",
      "[1.] -0.1\n",
      "[1.] -0.1\n",
      "[1.] -0.1\n",
      "[1.] -0.1\n",
      "[1.] -0.1\n",
      "[1.] -0.1\n",
      "[1.] -0.1\n",
      "[1.] -0.1\n",
      "[1.] -0.1\n",
      "[1.] -0.1\n",
      "[1.] -0.1\n",
      "[1.] -0.1\n",
      "[1.] -0.1\n",
      "[1.] -0.1\n",
      "[1.] -0.1\n",
      "[1.] -0.1\n",
      "[1.] -0.1\n",
      "[1.] -0.1\n",
      "[1.] -0.1\n",
      "[1.] -0.1\n",
      "[1.] -0.1\n",
      "[1.] -0.1\n",
      "[1.] -0.1\n",
      "[1.] -0.1\n",
      "[1.] -0.1\n",
      "[1.] -0.1\n",
      "[1.] -0.1\n",
      "[1.] -0.1\n",
      "[1.] -0.1\n",
      "[1.] -0.1\n",
      "[1.] -0.1\n",
      "[1.] -0.1\n",
      "[1.] -0.1\n",
      "[1.] -0.1\n",
      "[1.] -0.1\n",
      "[1.] -0.1\n",
      "[1.] -0.1\n",
      "[1.] -0.1\n",
      "[1.] -0.1\n",
      "[1.] -0.1\n",
      "[1.] -0.1\n",
      "[1.] -0.1\n",
      "[1.] -0.1\n",
      "[1.] -0.1\n",
      "[1.] -0.1\n",
      "[1.] -0.1\n",
      "[1.] -0.1\n",
      "199\n",
      "199\n"
     ]
    }
   ],
   "source": [
    "try:\n",
    "#     env.seed = random.randint(0, 100000)\n",
    "    obs = env.reset()\n",
    "    env._max_episode_steps = 200\n",
    "    for t in count():\n",
    "        \n",
    "        if t % 500 == 0:\n",
    "            print(t)\n",
    "        \n",
    "        env.render()\n",
    "        global EPS\n",
    "        EPS = 0.95\n",
    "        action = get_model_action(policy_actor, obs, device, train=False)\n",
    "        obs, reward, done, info = env.step(action)\n",
    "        print(action, reward)\n",
    "        if done:\n",
    "            env.close()\n",
    "            break\n",
    "\n",
    "    print(t)\n",
    "except KeyboardInterrupt:\n",
    "    pass\n",
    "finally:\n",
    "    env.close()\n",
    "    print(t)"
   ]
  },
  {
   "cell_type": "code",
   "execution_count": 20,
   "metadata": {
    "collapsed": true
   },
   "outputs": [],
   "source": [
    "model = policy_net"
   ]
  },
  {
   "cell_type": "code",
   "execution_count": 21,
   "metadata": {},
   "outputs": [
    {
     "data": {
      "text/plain": [
       "Qnet(\n",
       "  (model): Sequential(\n",
       "    (0): Linear(in_features=2, out_features=32, bias=True)\n",
       "    (1): LeakyReLU(negative_slope=0.01, inplace)\n",
       "    (2): Linear(in_features=32, out_features=3, bias=True)\n",
       "  )\n",
       ")"
      ]
     },
     "execution_count": 21,
     "metadata": {},
     "output_type": "execute_result"
    }
   ],
   "source": [
    "model.to('cpu')"
   ]
  },
  {
   "cell_type": "code",
   "execution_count": 22,
   "metadata": {},
   "outputs": [
    {
     "name": "stderr",
     "output_type": "stream",
     "text": [
      "/usr/local/lib/python3.5/dist-packages/torch/serialization.py:251: UserWarning: Couldn't retrieve source code for container of type Qnet. It won't be checked for correctness upon loading.\n",
      "  \"type \" + obj.__name__ + \". It won't be checked \"\n"
     ]
    }
   ],
   "source": [
    "torch.save(model, 'cart.torch')"
   ]
  },
  {
   "cell_type": "code",
   "execution_count": 23,
   "metadata": {
    "collapsed": true
   },
   "outputs": [],
   "source": [
    "model = torch.load('cart.torch')"
   ]
  },
  {
   "cell_type": "code",
   "execution_count": 24,
   "metadata": {},
   "outputs": [
    {
     "data": {
      "text/plain": [
       "Qnet(\n",
       "  (model): Sequential(\n",
       "    (0): Linear(in_features=2, out_features=32, bias=True)\n",
       "    (1): LeakyReLU(negative_slope=0.01, inplace)\n",
       "    (2): Linear(in_features=32, out_features=3, bias=True)\n",
       "  )\n",
       ")"
      ]
     },
     "execution_count": 24,
     "metadata": {},
     "output_type": "execute_result"
    }
   ],
   "source": [
    "model.to(device)"
   ]
  },
  {
   "cell_type": "code",
   "execution_count": 25,
   "metadata": {
    "collapsed": true
   },
   "outputs": [],
   "source": [
    "policy_net = model"
   ]
  },
  {
   "cell_type": "code",
   "execution_count": null,
   "metadata": {
    "collapsed": true
   },
   "outputs": [],
   "source": []
  }
 ],
 "metadata": {
  "kernelspec": {
   "display_name": "Python 3",
   "language": "python",
   "name": "python3"
  },
  "language_info": {
   "codemirror_mode": {
    "name": "ipython",
    "version": 3
   },
   "file_extension": ".py",
   "mimetype": "text/x-python",
   "name": "python",
   "nbconvert_exporter": "python",
   "pygments_lexer": "ipython3",
   "version": "3.5.2"
  }
 },
 "nbformat": 4,
 "nbformat_minor": 2
}
