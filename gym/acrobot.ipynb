{
 "cells": [
  {
   "cell_type": "code",
   "execution_count": 1,
   "metadata": {},
   "outputs": [],
   "source": [
    "import gym\n",
    "import numpy as np\n",
    "import random\n",
    "import torch\n",
    "from itertools import count\n"
   ]
  },
  {
   "cell_type": "code",
   "execution_count": 2,
   "metadata": {},
   "outputs": [
    {
     "data": {
      "text/plain": [
       "device(type='cuda')"
      ]
     },
     "execution_count": 2,
     "metadata": {},
     "output_type": "execute_result"
    }
   ],
   "source": [
    "device = torch.device('cuda' if torch.cuda.is_available() else 'cpu')\n",
    "# device = torch.device('cpu')\n",
    "\n",
    "device"
   ]
  },
  {
   "cell_type": "code",
   "execution_count": 3,
   "metadata": {},
   "outputs": [],
   "source": [
    "from collections import deque\n",
    "\n",
    "class Memory():\n",
    "    def __init__(self, capacity=10000, short_capacity=2000):\n",
    "        self.capacity = capacity\n",
    "        self.memory = deque(maxlen=self.capacity)\n",
    "        self.short_memory = deque(maxlen=short_capacity)\n",
    "        \n",
    "    def push(self, old_state, action, reward, new_state, final):\n",
    "        self.short_memory.append([old_state, action, reward, new_state, final])\n",
    "        \n",
    "    def commit(self, final=True): \n",
    "        self.short_memory[-1][-1] = final\n",
    "        self.memory.extendleft(self.short_memory)\n",
    "        self.short_memory.clear()"
   ]
  },
  {
   "cell_type": "code",
   "execution_count": 48,
   "metadata": {},
   "outputs": [],
   "source": [
    "# class Memory():\n",
    "#     def __init__(self, capacity=10000):\n",
    "#         self.capacity = capacity\n",
    "#         self.memory = []\n",
    "#         self.short_memory = []\n",
    "        \n",
    "#     def push(self, old_state, action, reward, new_state, final):\n",
    "#         self.short_memory.append([old_state, action, reward, new_state, final])\n",
    "        \n",
    "#     def commit(self, final=True): \n",
    "#         if len(self.memory) + len(self.short_memory) < self.capacity:\n",
    "#             self.memory.extend(self.short_memory)\n",
    "#         else:\n",
    "#             for memo in self.short_memory:\n",
    "#                 self.memory.insert(random.randint(0, len(self.memory) - 1), memo)\n",
    "                \n",
    "#         self.memory = self.memory[:self.capacity]\n",
    "#         self.short_memory = []"
   ]
  },
  {
   "cell_type": "code",
   "execution_count": 49,
   "metadata": {},
   "outputs": [],
   "source": [
    "class Qnet(torch.nn.Module):\n",
    "    def __init__(self, observation_space=None, action_space=None):\n",
    "        super(Qnet, self).__init__()\n",
    "        self.model = torch.nn.Sequential(\n",
    "            torch.nn.Linear(observation_space, 32),\n",
    "            torch.nn.LeakyReLU(inplace=True),\n",
    "            torch.nn.Linear(32, 32),\n",
    "            torch.nn.LeakyReLU(inplace=True),\n",
    "            torch.nn.Linear(32, action_space),\n",
    "        )\n",
    "    \n",
    "    def forward(self, x):\n",
    "        return self.model(x)"
   ]
  },
  {
   "cell_type": "code",
   "execution_count": 81,
   "metadata": {},
   "outputs": [],
   "source": [
    "class Agent:\n",
    "    def __init__(self, observation_space=None, action_space=None, device=None):\n",
    "        self.device = device\n",
    "        \n",
    "        self.observation_space = observation_space\n",
    "        self.action_space = action_space\n",
    "        \n",
    "        self.reset()\n",
    "    \n",
    "    def reset(self):\n",
    "        self._mode = 'train'\n",
    "        self._episode_count = 0\n",
    "        self._eps = 0.99999\n",
    "        self._eps_min = 0.01\n",
    "        self._gamma = 0.999995\n",
    "        \n",
    "        self.policy_net = Qnet(observation_space=self.observation_space, \n",
    "                               action_space=self.action_space).to(self.device)\n",
    "        self.target_net = Qnet(observation_space=self.observation_space, \n",
    "                               action_space=self.action_space).to(self.device)\n",
    "        self.target_net.load_state_dict(self.policy_net.state_dict())\n",
    "        self.optim = torch.optim.Adam(self.policy_net.parameters(), lr=0.01)\n",
    "        \n",
    "        self.memory = Memory(capacity=10000000)  \n",
    "    \n",
    "    def push_observation(self, old_state, action, reward, state, final):\n",
    "        self.memory.push(old_state, action, reward, state, final)\n",
    "    \n",
    "    def episode_ended(self):\n",
    "        self.memory.commit()\n",
    "        self._episode_count += 1\n",
    "        \n",
    "    def get_action(self, state):\n",
    "        def get_model_action(state):\n",
    "            with torch.no_grad():\n",
    "                input = torch.FloatTensor(state).to(self.device)\n",
    "                model_output = self.policy_net(input.unsqueeze(0))\n",
    "                model_output = model_output.cpu().detach().numpy()\n",
    "                return np.argmax(model_output[0])\n",
    "            \n",
    "        if self._mode == 'eval':\n",
    "            return get_model_action(state)\n",
    "        if self._mode == 'train':\n",
    "            self._eps *= self._gamma\n",
    "            self._eps = max(self._eps, self._eps_min)\n",
    "            if random.random() > self._eps:\n",
    "                return get_model_action(state)\n",
    "            else:\n",
    "                return random.randint(0, self.action_space-1)\n",
    "        raise \"unknown mode\"\n",
    "        \n",
    "    def train_memory(self, batch_size=64):\n",
    "        memory = self.memory.memory\n",
    "        try:\n",
    "            memory = random.sample(memory, batch_size)\n",
    "        except ValueError:\n",
    "            return\n",
    "\n",
    "        s0 = [x[0] for x in memory]\n",
    "        a = [x[1] for x in memory]\n",
    "        r = [x[2] for x in memory]\n",
    "        s1 = [x[3] for x in memory]\n",
    "        done = [1. if x[4] else 0. for x in memory]\n",
    "\n",
    "\n",
    "        s0 = torch.FloatTensor(s0).to(self.device)\n",
    "        s1 = torch.FloatTensor(s1).to(self.device)\n",
    "        a = torch.LongTensor(a).to(self.device)\n",
    "        r = torch.FloatTensor(r).to(self.device)\n",
    "        done = torch.FloatTensor(done).to(self.device)\n",
    "\n",
    "        q_values = self.policy_net(s0)\n",
    "        next_q_values = self.target_net(s1)\n",
    "        next_q_value = next_q_values.max(1)[0]\n",
    "\n",
    "        q_value = q_values.gather(1, a.unsqueeze(1)).squeeze(1)\n",
    "        expected_q_value = r + 0.99 * next_q_value * (1.0 - done)\n",
    "        # Notice that detach the expected_q_value\n",
    "        loss = (expected_q_value.detach() - q_value).pow(2).mean()\n",
    "\n",
    "        self.optim.zero_grad()\n",
    "        loss.backward()\n",
    "        self.optim.step()\n",
    "        \n",
    "        def soft_update(target_model, source_model, tau=0.0005):\n",
    "            for target_param, source_param in zip(target_model.parameters(), source_model.parameters()):\n",
    "                    target_param.data.copy_(tau*source_param.data + (1.0-tau)*target_param.data)\n",
    "                \n",
    "        soft_update(self.target_net, self.policy_net)\n",
    "  \n",
    "    def train(self):\n",
    "        self._mode = 'train'\n",
    "    def eval(self):\n",
    "        self._mode = 'eval'"
   ]
  },
  {
   "cell_type": "code",
   "execution_count": 82,
   "metadata": {},
   "outputs": [],
   "source": [
    "env = gym.make('Acrobot-v1')\n",
    "env._max_episode_steps = 500"
   ]
  },
  {
   "cell_type": "code",
   "execution_count": 83,
   "metadata": {},
   "outputs": [],
   "source": [
    "agent = Agent(observation_space=env.observation_space.shape[0], action_space=env.action_space.n, device=device)\n",
    "agent.train()"
   ]
  },
  {
   "cell_type": "code",
   "execution_count": 84,
   "metadata": {
    "scrolled": false
   },
   "outputs": [
    {
     "name": "stdout",
     "output_type": "stream",
     "text": [
      "Episode   0:    499.000 iterations, eps=0.997493\n",
      "Episode  10:    494.400 iterations, eps=0.973089\n",
      "Episode  20:    499.000 iterations, eps=0.949063\n",
      "Episode  30:    499.000 iterations, eps=0.925630\n",
      "Episode  40:    499.000 iterations, eps=0.902777\n",
      "Episode  50:    499.000 iterations, eps=0.880487\n",
      "Episode  60:    499.000 iterations, eps=0.858747\n",
      "Episode  70:    499.000 iterations, eps=0.837545\n",
      "Episode  80:    499.000 iterations, eps=0.816866\n",
      "Episode  90:    499.000 iterations, eps=0.796697\n",
      "Episode 100:    493.300 iterations, eps=0.777248\n",
      "Episode 110:    499.000 iterations, eps=0.758058\n",
      "Episode 120:    499.000 iterations, eps=0.739341\n",
      "Episode 130:    470.700 iterations, eps=0.722108\n",
      "Episode 140:    421.300 iterations, eps=0.707020\n",
      "Episode 150:    449.300 iterations, eps=0.691280\n",
      "Episode 160:    421.700 iterations, eps=0.676823\n",
      "Episode 170:    311.800 iterations, eps=0.666319\n",
      "Episode 180:    309.600 iterations, eps=0.656051\n",
      "Episode 190:    370.400 iterations, eps=0.643981\n",
      "Episode 200:    275.700 iterations, eps=0.635133\n",
      "Episode 210:    298.300 iterations, eps=0.625699\n",
      "Episode 220:    279.000 iterations, eps=0.617000\n",
      "Episode 230:    293.300 iterations, eps=0.607987\n",
      "Episode 240:    300.800 iterations, eps=0.598882\n",
      "Episode 250:    284.200 iterations, eps=0.590402\n",
      "Episode 260:    232.100 iterations, eps=0.583561\n",
      "Episode 270:    274.400 iterations, eps=0.575580\n",
      "Episode 280:    242.500 iterations, eps=0.568615\n",
      "Episode 290:    286.200 iterations, eps=0.560508\n",
      "Episode 300:    242.500 iterations, eps=0.553725\n",
      "Episode 310:    210.500 iterations, eps=0.547901\n",
      "Episode 320:    254.600 iterations, eps=0.540943\n",
      "Episode 330:    243.600 iterations, eps=0.534367\n",
      "Episode 340:    237.800 iterations, eps=0.528025\n",
      "Episode 350:    286.500 iterations, eps=0.520489\n",
      "Episode 360:    251.500 iterations, eps=0.513959\n",
      "Episode 370:    210.300 iterations, eps=0.508558\n",
      "Episode 380:    231.600 iterations, eps=0.502677\n",
      "Episode 390:    214.600 iterations, eps=0.497288\n",
      "Episode 400:    224.200 iterations, eps=0.491720\n",
      "Episode 410:    257.600 iterations, eps=0.485403\n",
      "Episode 420:    238.400 iterations, eps=0.479627\n",
      "Episode 430:    242.700 iterations, eps=0.473818\n",
      "Episode 440:    249.400 iterations, eps=0.467923\n",
      "Episode 450:    236.500 iterations, eps=0.462399\n",
      "Episode 460:    199.800 iterations, eps=0.457780\n",
      "Episode 470:    244.600 iterations, eps=0.452193\n",
      "Episode 480:    191.900 iterations, eps=0.447852\n",
      "Episode 490:    199.100 iterations, eps=0.443394\n",
      "Episode 500:    201.100 iterations, eps=0.438936\n",
      "Episode 510:    168.500 iterations, eps=0.435232\n",
      "Episode 520:    194.400 iterations, eps=0.431000\n",
      "Episode 530:    188.200 iterations, eps=0.426942\n",
      "Episode 540:    185.500 iterations, eps=0.422979\n",
      "Episode 550:    189.500 iterations, eps=0.418969\n",
      "Episode 560:    161.600 iterations, eps=0.415577\n",
      "Episode 570:    174.200 iterations, eps=0.411953\n",
      "Episode 580:    166.800 iterations, eps=0.408511\n",
      "Episode 590:    217.000 iterations, eps=0.404082\n",
      "Episode 600:    176.300 iterations, eps=0.400516\n",
      "Episode 610:    151.200 iterations, eps=0.397479\n",
      "Episode 620:    156.000 iterations, eps=0.394371\n",
      "Episode 630:    194.900 iterations, eps=0.390527\n",
      "Episode 640:    173.000 iterations, eps=0.387144\n",
      "Episode 650:    164.900 iterations, eps=0.383946\n",
      "Episode 660:    139.100 iterations, eps=0.381266\n",
      "Episode 670:    164.300 iterations, eps=0.378128\n",
      "Episode 680:    148.100 iterations, eps=0.375320\n",
      "Episode 690:    136.900 iterations, eps=0.372741\n",
      "Episode 700:    152.500 iterations, eps=0.369891\n",
      "Episode 710:    161.200 iterations, eps=0.366903\n",
      "Episode 720:    119.000 iterations, eps=0.364708\n",
      "Episode 730:    137.600 iterations, eps=0.362190\n",
      "Episode 740:    133.300 iterations, eps=0.359766\n",
      "Episode 750:    155.000 iterations, eps=0.356970\n",
      "Episode 760:    132.700 iterations, eps=0.354592\n",
      "Episode 770:    119.100 iterations, eps=0.352469\n",
      "Episode 780:    132.800 iterations, eps=0.350119\n",
      "Episode 790:    139.300 iterations, eps=0.347671\n",
      "Episode 800:    141.500 iterations, eps=0.345203\n",
      "Episode 810:    152.900 iterations, eps=0.342557\n",
      "Episode 820:    116.300 iterations, eps=0.340554\n",
      "Episode 830:    119.500 iterations, eps=0.338508\n",
      "Episode 840:    139.100 iterations, eps=0.336145\n",
      "Episode 850:    143.800 iterations, eps=0.333720\n",
      "Episode 860:    121.800 iterations, eps=0.331677\n",
      "Episode 870:    144.200 iterations, eps=0.329278\n",
      "Episode 880:    125.100 iterations, eps=0.327208\n",
      "Episode 890:    145.000 iterations, eps=0.324829\n",
      "Episode 900:    137.700 iterations, eps=0.322584\n",
      "Episode 910:    144.900 iterations, eps=0.320239\n",
      "Episode 920:    112.800 iterations, eps=0.318422\n",
      "Episode 930:    136.700 iterations, eps=0.316237\n",
      "Episode 940:    141.500 iterations, eps=0.313992\n",
      "Episode 950:    149.800 iterations, eps=0.311633\n",
      "Episode 960:    131.100 iterations, eps=0.309582\n",
      "Episode 970:    125.300 iterations, eps=0.307633\n",
      "Episode 980:    120.700 iterations, eps=0.305767\n",
      "Episode 990:    129.500 iterations, eps=0.303778\n",
      "Episode 1000:    131.400 iterations, eps=0.301774\n",
      "Episode 1010:    126.600 iterations, eps=0.299854\n",
      "Episode 1020:    140.800 iterations, eps=0.297736\n",
      "Episode 1030:    118.000 iterations, eps=0.295970\n",
      "Episode 1040:    129.100 iterations, eps=0.294051\n",
      "Episode 1050:    122.600 iterations, eps=0.292239\n",
      "Episode 1060:    113.200 iterations, eps=0.290575\n",
      "Episode 1070:    135.300 iterations, eps=0.288602\n",
      "Episode 1080:    121.400 iterations, eps=0.286841\n",
      "Episode 1090:    107.400 iterations, eps=0.285290\n",
      "Episode 1100:    126.900 iterations, eps=0.283472\n",
      "Episode 1110:    135.900 iterations, eps=0.281538\n",
      "Episode 1120:    129.700 iterations, eps=0.279704\n",
      "Episode 1130:    149.900 iterations, eps=0.277602\n",
      "Episode 1140:    119.100 iterations, eps=0.275940\n",
      "Episode 1150:    125.000 iterations, eps=0.274207\n",
      "Episode 1160:    119.600 iterations, eps=0.272558\n",
      "Episode 1170:    119.200 iterations, eps=0.270925\n"
     ]
    }
   ],
   "source": [
    "len_mem = []\n",
    "try:\n",
    "    for episode in range(100000):\n",
    "        state = env.reset()\n",
    "\n",
    "        for i in count():\n",
    "            \n",
    "            action = agent.get_action(state)\n",
    "            old_state = state\n",
    "            state, reward, done, info = env.step(action)\n",
    "\n",
    "            agent.train_memory(batch_size=128)\n",
    "            \n",
    "            if done:\n",
    "                env.close()\n",
    "                len_mem.append(i)\n",
    "                \n",
    "                final = True if reward > -0.5 else False\n",
    "                \n",
    "                agent.push_observation(old_state, action, reward, state, final)\n",
    "                agent.episode_ended()\n",
    "                break\n",
    "            else:\n",
    "                agent.push_observation(old_state, action, reward, state, False)\n",
    "        \n",
    "        if episode % 10 == 0:\n",
    "            print('Episode {:3d}: {:10.3f} iterations, eps={:6.6f}'.format(episode, \n",
    "                                                                           np.mean(len_mem[-10:]), \n",
    "                                                                           agent._eps))\n",
    "    \n",
    "except KeyboardInterrupt:\n",
    "    env.close()"
   ]
  },
  {
   "cell_type": "code",
   "execution_count": 85,
   "metadata": {
    "scrolled": true
   },
   "outputs": [
    {
     "data": {
      "text/plain": [
       "[<matplotlib.lines.Line2D at 0x7fc664eff358>]"
      ]
     },
     "execution_count": 85,
     "metadata": {},
     "output_type": "execute_result"
    },
    {
     "data": {
      "image/png": "[encoded data removed]",
      "text/plain": [
       "<Figure size 432x288 with 1 Axes>"
      ]
     },
     "metadata": {
      "needs_background": "light"
     },
     "output_type": "display_data"
    }
   ],
   "source": [
    "import matplotlib.pyplot as plt\n",
    "%matplotlib inline\n",
    "\n",
    "plt.figure()\n",
    "plt.plot(len_mem, 'o', alpha=0.2)"
   ]
  },
  {
   "cell_type": "code",
   "execution_count": 94,
   "metadata": {},
   "outputs": [
    {
     "name": "stdout",
     "output_type": "stream",
     "text": [
      "0\n",
      "84\n",
      "84\n"
     ]
    }
   ],
   "source": [
    "agent.eval()\n",
    "\n",
    "try:\n",
    "    env.seed = random.randint(0, 100000)\n",
    "    obs = env.reset()\n",
    "    env._max_episode_steps = 100000\n",
    "    for t in count():\n",
    "        \n",
    "        if t % 500 == 0:\n",
    "            print(t)\n",
    "        \n",
    "        env.render()\n",
    "        action = agent.get_action(obs)\n",
    "        obs, reward, done, info = env.step(action)\n",
    "        if done:\n",
    "            env.close()\n",
    "            break\n",
    "\n",
    "    print(t)\n",
    "except KeyboardInterrupt:\n",
    "    pass\n",
    "finally:\n",
    "    env.close()\n",
    "    print (t)"
   ]
  },
  {
   "cell_type": "code",
   "execution_count": 12,
   "metadata": {
    "collapsed": true
   },
   "outputs": [],
   "source": [
    "model = policy_net"
   ]
  },
  {
   "cell_type": "code",
   "execution_count": 13,
   "metadata": {},
   "outputs": [
    {
     "data": {
      "text/plain": [
       "Qnet(\n",
       "  (model): Sequential(\n",
       "    (0): Linear(in_features=4, out_features=32, bias=True)\n",
       "    (1): LeakyReLU(negative_slope=0.01, inplace)\n",
       "    (2): Linear(in_features=32, out_features=2, bias=True)\n",
       "  )\n",
       ")"
      ]
     },
     "execution_count": 13,
     "metadata": {},
     "output_type": "execute_result"
    }
   ],
   "source": [
    "model.to('cpu')"
   ]
  },
  {
   "cell_type": "code",
   "execution_count": 14,
   "metadata": {},
   "outputs": [
    {
     "name": "stderr",
     "output_type": "stream",
     "text": [
      "/usr/local/lib/python3.5/dist-packages/torch/serialization.py:251: UserWarning: Couldn't retrieve source code for container of type Qnet. It won't be checked for correctness upon loading.\n",
      "  \"type \" + obj.__name__ + \". It won't be checked \"\n"
     ]
    }
   ],
   "source": [
    "torch.save(model, 'model.torch')"
   ]
  },
  {
   "cell_type": "code",
   "execution_count": 26,
   "metadata": {
    "collapsed": true
   },
   "outputs": [],
   "source": [
    "model = torch.load('model.torch')"
   ]
  },
  {
   "cell_type": "code",
   "execution_count": 27,
   "metadata": {},
   "outputs": [
    {
     "data": {
      "text/plain": [
       "Qnet(\n",
       "  (model): Sequential(\n",
       "    (0): Linear(in_features=4, out_features=32, bias=True)\n",
       "    (1): LeakyReLU(negative_slope=0.01, inplace)\n",
       "    (2): Linear(in_features=32, out_features=2, bias=True)\n",
       "  )\n",
       ")"
      ]
     },
     "execution_count": 27,
     "metadata": {},
     "output_type": "execute_result"
    }
   ],
   "source": [
    "model.to(device)"
   ]
  },
  {
   "cell_type": "code",
   "execution_count": 28,
   "metadata": {
    "collapsed": true
   },
   "outputs": [],
   "source": [
    "policy_net = model"
   ]
  },
  {
   "cell_type": "code",
   "execution_count": null,
   "metadata": {
    "collapsed": true
   },
   "outputs": [],
   "source": []
  }
 ],
 "metadata": {
  "kernelspec": {
   "display_name": "Python 3",
   "language": "python",
   "name": "python3"
  },
  "language_info": {
   "codemirror_mode": {
    "name": "ipython",
    "version": 3
   },
   "file_extension": ".py",
   "mimetype": "text/x-python",
   "name": "python",
   "nbconvert_exporter": "python",
   "pygments_lexer": "ipython3",
   "version": "3.7.3"
  }
 },
 "nbformat": 4,
 "nbformat_minor": 2
}
