{
 "cells": [
  {
   "cell_type": "code",
   "execution_count": 1,
   "metadata": {
    "collapsed": true
   },
   "outputs": [],
   "source": [
    "import gym\n",
    "import numpy as np\n",
    "import random\n",
    "import torch\n",
    "from itertools import count\n"
   ]
  },
  {
   "cell_type": "code",
   "execution_count": 2,
   "metadata": {
    "collapsed": true
   },
   "outputs": [],
   "source": [
    "device = torch.device('cuda' if torch.cuda.is_available() else 'cpu')\n",
    "device = torch.device('cpu')"
   ]
  },
  {
   "cell_type": "code",
   "execution_count": 3,
   "metadata": {
    "collapsed": true
   },
   "outputs": [],
   "source": [
    "class Memory():\n",
    "    def __init__(self, capacity=10000):\n",
    "        self.capacity = capacity\n",
    "        self.memory = []\n",
    "        self.short_memory = []\n",
    "        \n",
    "    def push(self, old_state, action, reward, new_state, final):\n",
    "        self.short_memory.append([old_state, action, reward, new_state, final])\n",
    "        \n",
    "    def commit(self, final=True): \n",
    "# #         discount\n",
    "#         for i, memo in enumerate(self.short_memory[::-1]):\n",
    "#             old_state, action, reward, new_state, *_ = memo\n",
    "            \n",
    "#             if i == 0:\n",
    "#                 prev_reward = reward\n",
    "#                 continue\n",
    "                \n",
    "#             reward, prev_reward = prev_reward * 0.99 + reward, reward\n",
    "#             self.short_memory[len(self.short_memory) - 1 - i][2] = reward \n",
    "            \n",
    "#         self.short_memory = [x for x in self.short_memory if x[-1] == False]\n",
    "        \n",
    "        if len(self.memory) + len(self.short_memory) < self.capacity:\n",
    "            self.memory.extend(self.short_memory)\n",
    "        else:\n",
    "            for memo in self.short_memory:\n",
    "                self.memory.insert(random.randint(0, len(self.memory) - 1), memo)\n",
    "                \n",
    "        self.memory = self.memory[:self.capacity]\n",
    "        self.short_memory = []"
   ]
  },
  {
   "cell_type": "code",
   "execution_count": 19,
   "metadata": {
    "collapsed": true
   },
   "outputs": [],
   "source": [
    "class Qnet(torch.nn.Module):\n",
    "    def __init__(self):\n",
    "        super(Qnet, self).__init__()\n",
    "        self.model = torch.nn.Sequential(\n",
    "            torch.nn.Linear(4, 32),\n",
    "#             torch.nn.LeakyReLU(inplace=True),\n",
    "#             torch.nn.Linear(32, 32),\n",
    "            torch.nn.LeakyReLU(inplace=True),\n",
    "            torch.nn.Linear(32, 2),\n",
    "#             torch.nn.Sigmoid(),\n",
    "        #     torch.nn.Softmax(dim=1),\n",
    "        )\n",
    "    \n",
    "    def forward(self, x):\n",
    "        return self.model(x)\n",
    "\n",
    "policy_net = Qnet().to(device)\n",
    "target_net = Qnet().to(device)\n",
    "\n",
    "target_net.load_state_dict(policy_net.state_dict())\n",
    "\n",
    "optim = torch.optim.Adam(policy_net.parameters(), lr=0.005)\n",
    "# optim = torch.optim.SGD(policy_net.parameters(), lr=0.001)\n",
    "\n",
    "from torch.optim.lr_scheduler import StepLR\n",
    "scheduler = StepLR(optim, step_size=100, gamma=0.84)    "
   ]
  },
  {
   "cell_type": "code",
   "execution_count": 20,
   "metadata": {},
   "outputs": [
    {
     "name": "stdout",
     "output_type": "stream",
     "text": [
      "Episode   0:     13.000 iterations, eps=0.898741\n",
      "Episode 100:     20.580 iterations, eps=0.724284\n",
      "Episode 200:     24.100 iterations, eps=0.563502\n",
      "Episode 300:     38.920 iterations, eps=0.378022\n",
      "Episode 400:     51.100 iterations, eps=0.224511\n",
      "Episode 500:    117.100 iterations, eps=0.068914\n",
      "Episode 600:    255.110 iterations, eps=0.010000\n",
      "Episode 700:    231.560 iterations, eps=0.010000\n",
      "Episode 800:    235.460 iterations, eps=0.010000\n",
      "Episode 900:    375.810 iterations, eps=0.010000\n",
      "Episode 1000:    383.120 iterations, eps=0.010000\n",
      "Episode 1100:    393.760 iterations, eps=0.010000\n",
      "Episode 1200:    488.380 iterations, eps=0.010000\n",
      "Episode 1300:    626.420 iterations, eps=0.010000\n",
      "Episode 1400:    614.110 iterations, eps=0.010000\n",
      "Episode 1500:    818.940 iterations, eps=0.010000\n",
      "Episode 1600:    875.510 iterations, eps=0.010000\n",
      "Episode 1700:   1357.870 iterations, eps=0.010000\n",
      "Episode 1800:   1556.790 iterations, eps=0.010000\n",
      "Episode 1900:   1568.880 iterations, eps=0.010000\n",
      "Episode 2000:   1592.780 iterations, eps=0.010000\n",
      "Episode 2100:   1686.530 iterations, eps=0.010000\n",
      "Episode 2200:   1353.400 iterations, eps=0.010000\n",
      "Episode 2300:   1193.820 iterations, eps=0.010000\n",
      "Episode 2400:   1162.140 iterations, eps=0.010000\n",
      "Episode 2500:   1145.840 iterations, eps=0.010000\n",
      "Episode 2600:   1108.950 iterations, eps=0.010000\n",
      "Episode 2700:   1277.670 iterations, eps=0.010000\n",
      "Episode 2800:   1356.400 iterations, eps=0.010000\n"
     ]
    }
   ],
   "source": [
    "env = gym.make('CartPole-v0')\n",
    "env._max_episode_steps = 2000\n",
    "\n",
    "EPS = 0.9\n",
    "EPS_MIN = 0.01\n",
    "GAMMA = 0.9999\n",
    "\n",
    "\n",
    "def get_model_action(model, state, device, train=True):\n",
    "    global EPS, EPS_MIN, GAMMA\n",
    "    EPS = EPS * GAMMA\n",
    "    EPS = max(EPS, EPS_MIN)\n",
    "    \n",
    "    if not train or random.random() > EPS:\n",
    "        with torch.no_grad():\n",
    "            model_output = model(torch.FloatTensor(state).to(device).unsqueeze(0)).cpu().detach().numpy()\n",
    "            action = np.argmax(model_output[0])\n",
    "#             print(state, model_output, action)\n",
    "            \n",
    "    else:\n",
    "        action = random.randint(0, 1)\n",
    "    return action\n",
    "\n",
    "def train(model, memory, device):\n",
    "    memory = memory.memory\n",
    "    try:\n",
    "        memory = random.sample(memory, 128)\n",
    "    except ValueError:\n",
    "        return\n",
    "\n",
    "    s0 = [x[0] for x in memory]\n",
    "    a = [x[1] for x in memory]\n",
    "    r = [x[2] for x in memory]\n",
    "    s1 = [x[3] for x in memory]\n",
    "    done = [1. if x[4] else 0. for x in memory]\n",
    "\n",
    "\n",
    "    s0 = torch.FloatTensor(s0).to(device)\n",
    "    s1 = torch.FloatTensor(s1).to(device)\n",
    "    a = torch.LongTensor(a).to(device)\n",
    "    r = torch.FloatTensor(r).to(device)\n",
    "    done = torch.FloatTensor(done).to(device)\n",
    "\n",
    "    q_values = policy_net(s0)\n",
    "    next_q_values = target_net(s1)\n",
    "    next_q_value = next_q_values.max(1)[0]\n",
    "\n",
    "    q_value = q_values.gather(1, a.unsqueeze(1)).squeeze(1)\n",
    "    expected_q_value = r + 0.999 * next_q_value * (1.0 - done)\n",
    "    # Notice that detach the expected_q_value\n",
    "    loss = (expected_q_value.detach() - q_value).pow(2).mean()\n",
    "\n",
    "    optim.zero_grad()\n",
    "    loss.backward()\n",
    "    optim.step()\n",
    "\n",
    "        \n",
    "#     scheduler.step()\n",
    "\n",
    "memory = Memory(capacity=100000)  \n",
    "len_mem = []\n",
    "\n",
    "try:\n",
    "    for episode in range(100000):\n",
    "        state = env.reset()\n",
    "\n",
    "        for i in count():\n",
    "#             env.render()\n",
    "\n",
    "            action = get_model_action(policy_net, state, device)\n",
    "            old_state = state\n",
    "            state, reward, done, info = env.step(action)\n",
    "\n",
    "            if done:\n",
    "                env.close()\n",
    "                len_mem.append(i)\n",
    "                \n",
    "                if abs(i-2000) < 10:\n",
    "                    reward = 1\n",
    "                    final = False\n",
    "                else:\n",
    "                    reward = -5\n",
    "                    final = True\n",
    "                \n",
    "                memory.push(old_state, action, reward, state, final)\n",
    "                memory.commit()\n",
    "                break\n",
    "            else:\n",
    "                memory.push(old_state, action, reward, state, False)\n",
    "\n",
    "        \n",
    "        if episode % 100 == 0:\n",
    "            print('Episode {:3d}: {:10.3f} iterations, eps={:6.6f}'.format(episode, np.mean(len_mem[-100:]), EPS))\n",
    "        \n",
    "        train(policy_net, memory, device)\n",
    "        \n",
    "        if episode % 20 == 0:\n",
    "            target_net.load_state_dict(policy_net.state_dict())\n",
    "            \n",
    "    \n",
    "except KeyboardInterrupt:\n",
    "    env.close()"
   ]
  },
  {
   "cell_type": "code",
   "execution_count": 21,
   "metadata": {
    "scrolled": true
   },
   "outputs": [
    {
     "data": {
      "text/plain": [
       "[<matplotlib.lines.Line2D at 0x7f99b67747f0>]"
      ]
     },
     "execution_count": 21,
     "metadata": {},
     "output_type": "execute_result"
    },
    {
     "data": {
      "image/png": "[encoded data removed]",
      "text/plain": [
       "<matplotlib.figure.Figure at 0x7f99b048d9e8>"
      ]
     },
     "metadata": {},
     "output_type": "display_data"
    }
   ],
   "source": [
    "import matplotlib.pyplot as plt\n",
    "%matplotlib inline\n",
    "\n",
    "plt.figure()\n",
    "plt.plot(len_mem, 'o')"
   ]
  },
  {
   "cell_type": "code",
   "execution_count": 29,
   "metadata": {},
   "outputs": [
    {
     "name": "stdout",
     "output_type": "stream",
     "text": [
      "0\n",
      "500\n",
      "1000\n",
      "1500\n",
      "2000\n",
      "2500\n",
      "3000\n",
      "3500\n",
      "4000\n",
      "4500\n",
      "5000\n",
      "5500\n",
      "6000\n",
      "6500\n",
      "7000\n",
      "7500\n",
      "8000\n",
      "8500\n",
      "9000\n",
      "9500\n",
      "10000\n",
      "10500\n",
      "11000\n",
      "11437\n",
      "11437\n"
     ]
    }
   ],
   "source": [
    "try:\n",
    "    env.seed = random.randint(0, 100000)\n",
    "    obs = env.reset()\n",
    "    env._max_episode_steps = 100000\n",
    "    for t in count():\n",
    "        \n",
    "        if t % 500 == 0:\n",
    "            print(t)\n",
    "        \n",
    "#         env.render()\n",
    "        global EPS\n",
    "        EPS = 0.0\n",
    "        action = get_model_action(policy_net, obs, device, train=True)\n",
    "        obs, reward, done, info = env.step(action)\n",
    "        if done:\n",
    "            env.close()\n",
    "            break\n",
    "\n",
    "    print(t)\n",
    "except KeyboardInterrupt:\n",
    "    pass\n",
    "finally:\n",
    "    env.close()\n",
    "    print (t)"
   ]
  },
  {
   "cell_type": "code",
   "execution_count": 12,
   "metadata": {
    "collapsed": true
   },
   "outputs": [],
   "source": [
    "model = policy_net"
   ]
  },
  {
   "cell_type": "code",
   "execution_count": 13,
   "metadata": {},
   "outputs": [
    {
     "data": {
      "text/plain": [
       "Qnet(\n",
       "  (model): Sequential(\n",
       "    (0): Linear(in_features=4, out_features=32, bias=True)\n",
       "    (1): LeakyReLU(negative_slope=0.01, inplace)\n",
       "    (2): Linear(in_features=32, out_features=2, bias=True)\n",
       "  )\n",
       ")"
      ]
     },
     "execution_count": 13,
     "metadata": {},
     "output_type": "execute_result"
    }
   ],
   "source": [
    "model.to('cpu')"
   ]
  },
  {
   "cell_type": "code",
   "execution_count": 14,
   "metadata": {},
   "outputs": [
    {
     "name": "stderr",
     "output_type": "stream",
     "text": [
      "/usr/local/lib/python3.5/dist-packages/torch/serialization.py:251: UserWarning: Couldn't retrieve source code for container of type Qnet. It won't be checked for correctness upon loading.\n",
      "  \"type \" + obj.__name__ + \". It won't be checked \"\n"
     ]
    }
   ],
   "source": [
    "torch.save(model, 'model.torch')"
   ]
  },
  {
   "cell_type": "code",
   "execution_count": 26,
   "metadata": {
    "collapsed": true
   },
   "outputs": [],
   "source": [
    "model = torch.load('model.torch')"
   ]
  },
  {
   "cell_type": "code",
   "execution_count": 27,
   "metadata": {},
   "outputs": [
    {
     "data": {
      "text/plain": [
       "Qnet(\n",
       "  (model): Sequential(\n",
       "    (0): Linear(in_features=4, out_features=32, bias=True)\n",
       "    (1): LeakyReLU(negative_slope=0.01, inplace)\n",
       "    (2): Linear(in_features=32, out_features=2, bias=True)\n",
       "  )\n",
       ")"
      ]
     },
     "execution_count": 27,
     "metadata": {},
     "output_type": "execute_result"
    }
   ],
   "source": [
    "model.to(device)"
   ]
  },
  {
   "cell_type": "code",
   "execution_count": 28,
   "metadata": {
    "collapsed": true
   },
   "outputs": [],
   "source": [
    "policy_net = model"
   ]
  },
  {
   "cell_type": "code",
   "execution_count": null,
   "metadata": {
    "collapsed": true
   },
   "outputs": [],
   "source": []
  }
 ],
 "metadata": {
  "kernelspec": {
   "display_name": "Python 3",
   "language": "python",
   "name": "python3"
  },
  "language_info": {
   "codemirror_mode": {
    "name": "ipython",
    "version": 3
   },
   "file_extension": ".py",
   "mimetype": "text/x-python",
   "name": "python",
   "nbconvert_exporter": "python",
   "pygments_lexer": "ipython3",
   "version": "3.5.2"
  }
 },
 "nbformat": 4,
 "nbformat_minor": 2
}
