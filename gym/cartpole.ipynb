{
 "cells": [
  {
   "cell_type": "code",
   "execution_count": 1,
   "metadata": {},
   "outputs": [],
   "source": [
    "import gym\n",
    "import numpy as np\n",
    "import random\n",
    "import torch\n",
    "from itertools import count\n"
   ]
  },
  {
   "cell_type": "code",
   "execution_count": 3,
   "metadata": {},
   "outputs": [
    {
     "data": {
      "text/plain": [
       "device(type='cuda')"
      ]
     },
     "execution_count": 3,
     "metadata": {},
     "output_type": "execute_result"
    }
   ],
   "source": [
    "device = torch.device('cuda' if torch.cuda.is_available() else 'cpu')\n",
    "# device = torch.device('cpu')\n",
    "\n",
    "device"
   ]
  },
  {
   "cell_type": "code",
   "execution_count": 4,
   "metadata": {},
   "outputs": [],
   "source": [
    "from collections import deque\n",
    "\n",
    "class Memory():\n",
    "    def __init__(self, capacity=10000, short_capacity=2000):\n",
    "        self.capacity = capacity\n",
    "        self.memory = deque(maxlen=self.capacity)\n",
    "        self.short_memory = deque(maxlen=short_capacity)\n",
    "        \n",
    "    def push(self, old_state, action, reward, new_state, final):\n",
    "        self.short_memory.append([old_state, action, reward, new_state, final])\n",
    "        \n",
    "    def commit(self, final=True): \n",
    "        self.short_memory[-1][-1] = final\n",
    "        self.memory.extendleft(self.short_memory)\n",
    "        self.short_memory.clear()"
   ]
  },
  {
   "cell_type": "code",
   "execution_count": 5,
   "metadata": {},
   "outputs": [],
   "source": [
    "# class Memory():\n",
    "#     def __init__(self, capacity=10000):\n",
    "#         self.capacity = capacity\n",
    "#         self.memory = []\n",
    "#         self.short_memory = []\n",
    "        \n",
    "#     def push(self, old_state, action, reward, new_state, final):\n",
    "#         self.short_memory.append([old_state, action, reward, new_state, final])\n",
    "        \n",
    "#     def commit(self, final=True): \n",
    "#         if len(self.memory) + len(self.short_memory) < self.capacity:\n",
    "#             self.memory.extend(self.short_memory)\n",
    "#         else:\n",
    "#             for memo in self.short_memory:\n",
    "#                 self.memory.insert(random.randint(0, len(self.memory) - 1), memo)\n",
    "                \n",
    "#         self.memory = self.memory[:self.capacity]\n",
    "#         self.short_memory = []"
   ]
  },
  {
   "cell_type": "code",
   "execution_count": 6,
   "metadata": {},
   "outputs": [],
   "source": [
    "class Qnet(torch.nn.Module):\n",
    "    def __init__(self):\n",
    "        super(Qnet, self).__init__()\n",
    "        self.model = torch.nn.Sequential(\n",
    "            torch.nn.Linear(4, 32),\n",
    "#             torch.nn.LeakyReLU(inplace=True),\n",
    "#             torch.nn.Linear(32, 32),\n",
    "            torch.nn.LeakyReLU(inplace=True),\n",
    "            torch.nn.Linear(32, 2),\n",
    "#             torch.nn.Sigmoid(),\n",
    "        #     torch.nn.Softmax(dim=1),\n",
    "        )\n",
    "    \n",
    "    def forward(self, x):\n",
    "        return self.model(x)"
   ]
  },
  {
   "cell_type": "code",
   "execution_count": 12,
   "metadata": {},
   "outputs": [],
   "source": [
    "class Agent:\n",
    "    def __init__(self, observation_space=None, action_space=None, device=None):\n",
    "        self.device = device\n",
    "        \n",
    "        self.reset()\n",
    "    \n",
    "    def reset(self):\n",
    "        self._mode = 'train'\n",
    "        self._episode_count = 0\n",
    "        self._eps = 0.99999\n",
    "        self._eps_min = 0.01\n",
    "        self._gamma = 0.99999\n",
    "        \n",
    "        self.policy_net = Qnet().to(self.device)\n",
    "        self.target_net = Qnet().to(self.device)\n",
    "        self.target_net.load_state_dict(self.policy_net.state_dict())\n",
    "        self.optim = torch.optim.Adam(self.policy_net.parameters(), lr=0.05)\n",
    "        \n",
    "        self.memory = Memory(capacity=10000000)  \n",
    "    \n",
    "    def push_observation(self, old_state, action, reward, state, final):\n",
    "        self.memory.push(old_state, action, reward, state, final)\n",
    "    \n",
    "    def episode_ended(self):\n",
    "        self.memory.commit()\n",
    "        self._episode_count += 1\n",
    "        \n",
    "    def get_action(self, state):\n",
    "        def get_model_action(state):\n",
    "            with torch.no_grad():\n",
    "                input = torch.FloatTensor(state).to(self.device)\n",
    "                model_output = self.policy_net(input.unsqueeze(0))\n",
    "                model_output = model_output.cpu().detach().numpy()\n",
    "                return np.argmax(model_output[0])\n",
    "            \n",
    "        if self._mode == 'eval':\n",
    "            return get_model_action(state)\n",
    "        if self._mode == 'train':\n",
    "            self._eps *= self._gamma\n",
    "            self._eps = max(self._eps, self._eps_min)\n",
    "            if random.random() > self._eps:\n",
    "                return get_model_action(state)\n",
    "            else:\n",
    "                return random.randint(0, 1)\n",
    "        raise \"unknown mode\"\n",
    "        \n",
    "    def train_memory(self):\n",
    "        memory = self.memory.memory\n",
    "        try:\n",
    "            memory = random.sample(memory, 512)\n",
    "        except ValueError:\n",
    "            return\n",
    "\n",
    "        s0 = [x[0] for x in memory]\n",
    "        a = [x[1] for x in memory]\n",
    "        r = [x[2] for x in memory]\n",
    "        s1 = [x[3] for x in memory]\n",
    "        done = [1. if x[4] else 0. for x in memory]\n",
    "\n",
    "\n",
    "        s0 = torch.FloatTensor(s0).to(self.device)\n",
    "        s1 = torch.FloatTensor(s1).to(self.device)\n",
    "        a = torch.LongTensor(a).to(self.device)\n",
    "        r = torch.FloatTensor(r).to(self.device)\n",
    "        done = torch.FloatTensor(done).to(self.device)\n",
    "\n",
    "        q_values = self.policy_net(s0)\n",
    "        next_q_values = self.target_net(s1)\n",
    "        next_q_value = next_q_values.max(1)[0]\n",
    "\n",
    "        q_value = q_values.gather(1, a.unsqueeze(1)).squeeze(1)\n",
    "        expected_q_value = r + 0.999 * next_q_value * (1.0 - done)\n",
    "        # Notice that detach the expected_q_value\n",
    "        loss = (expected_q_value.detach() - q_value).pow(2).mean()\n",
    "\n",
    "        self.optim.zero_grad()\n",
    "        loss.backward()\n",
    "        self.optim.step()\n",
    "        \n",
    "        \n",
    "        if self._episode_count % 10 == 0:\n",
    "            self.target_net.load_state_dict(self.policy_net.state_dict())\n",
    "  \n",
    "    def train(self):\n",
    "        self._mode = 'train'\n",
    "    def eval(self):\n",
    "        self._mode = 'eval'"
   ]
  },
  {
   "cell_type": "code",
   "execution_count": 13,
   "metadata": {},
   "outputs": [],
   "source": [
    "env = gym.make('CartPole-v0')\n",
    "env._max_episode_steps = 2000"
   ]
  },
  {
   "cell_type": "code",
   "execution_count": 14,
   "metadata": {},
   "outputs": [
    {
     "data": {
      "text/plain": [
       "(Box(4,), Discrete(2))"
      ]
     },
     "execution_count": 14,
     "metadata": {},
     "output_type": "execute_result"
    }
   ],
   "source": [
    "env.observation_space, env.action_space"
   ]
  },
  {
   "cell_type": "code",
   "execution_count": 15,
   "metadata": {},
   "outputs": [],
   "source": [
    "agent = Agent(observation_space=4, action_space=2, device=device)\n",
    "agent.train()"
   ]
  },
  {
   "cell_type": "code",
   "execution_count": 16,
   "metadata": {},
   "outputs": [
    {
     "name": "stdout",
     "output_type": "stream",
     "text": [
      "Episode   0:     26.000 iterations, eps=0.999720\n",
      "Episode 100:     19.830 iterations, eps=0.979111\n",
      "Episode 200:     23.220 iterations, eps=0.955682\n",
      "Episode 300:     24.180 iterations, eps=0.931918\n",
      "Episode 400:     26.870 iterations, eps=0.906304\n",
      "Episode 500:     33.090 iterations, eps=0.875929\n",
      "Episode 600:     29.950 iterations, eps=0.849234\n",
      "Episode 700:     28.360 iterations, eps=0.824663\n",
      "Episode 800:     37.630 iterations, eps=0.793413\n",
      "Episode 900:     43.500 iterations, eps=0.758880\n",
      "Episode 1000:     48.100 iterations, eps=0.722519\n",
      "Episode 1100:     53.100 iterations, eps=0.684469\n",
      "Episode 1200:     72.270 iterations, eps=0.636111\n",
      "Episode 1300:     61.790 iterations, eps=0.597397\n",
      "Episode 1400:     84.870 iterations, eps=0.548240\n",
      "Episode 1500:    110.750 iterations, eps=0.490273\n",
      "Episode 1600:    164.060 iterations, eps=0.415674\n",
      "Episode 1700:    155.370 iterations, eps=0.355502\n",
      "Episode 1800:    159.410 iterations, eps=0.302814\n",
      "Episode 1900:    167.730 iterations, eps=0.255798\n",
      "Episode 2000:    169.970 iterations, eps=0.215598\n",
      "Episode 2100:    181.890 iterations, eps=0.179563\n",
      "Episode 2200:    201.370 iterations, eps=0.146666\n",
      "Episode 2300:    541.110 iterations, eps=0.085289\n",
      "Episode 2400:   1036.480 iterations, eps=0.030222\n",
      "Episode 2500:   1273.560 iterations, eps=0.010000\n",
      "Episode 2600:   1247.820 iterations, eps=0.010000\n",
      "Episode 2700:   1966.060 iterations, eps=0.010000\n",
      "Episode 2800:   1932.420 iterations, eps=0.010000\n"
     ]
    }
   ],
   "source": [
    "len_mem = []\n",
    "try:\n",
    "    for episode in range(100000):\n",
    "        state = env.reset()\n",
    "\n",
    "        for i in count():\n",
    "#             env.render()\n",
    "\n",
    "#             action = get_model_action(policy_net, state, device)\n",
    "            action = agent.get_action(state)\n",
    "            old_state = state\n",
    "            state, reward, done, info = env.step(action)\n",
    "\n",
    "            if done:\n",
    "                env.close()\n",
    "                len_mem.append(i)\n",
    "                \n",
    "                if abs(i-2000) < 10:\n",
    "                    reward = 1\n",
    "                    final = False\n",
    "                else:\n",
    "                    reward = -5\n",
    "                    final = True\n",
    "                \n",
    "                agent.push_observation(old_state, action, reward, state, final)\n",
    "                agent.episode_ended()\n",
    "                break\n",
    "            else:\n",
    "                agent.push_observation(old_state, action, reward, state, False)\n",
    "        \n",
    "        if episode % 100 == 0:\n",
    "            print('Episode {:3d}: {:10.3f} iterations, eps={:6.6f}'.format(episode, \n",
    "                                                                           np.mean(len_mem[-100:]), \n",
    "                                                                           agent._eps))\n",
    "        agent.train_memory()\n",
    "    \n",
    "except KeyboardInterrupt:\n",
    "    env.close()"
   ]
  },
  {
   "cell_type": "code",
   "execution_count": 17,
   "metadata": {
    "scrolled": true
   },
   "outputs": [
    {
     "data": {
      "text/plain": [
       "[<matplotlib.lines.Line2D at 0x7fa3fd6b24e0>]"
      ]
     },
     "execution_count": 17,
     "metadata": {},
     "output_type": "execute_result"
    },
    {
     "data": {
      "image/png": "[encoded data removed]",
      "text/plain": [
       "<Figure size 432x288 with 1 Axes>"
      ]
     },
     "metadata": {
      "needs_background": "light"
     },
     "output_type": "display_data"
    }
   ],
   "source": [
    "import matplotlib.pyplot as plt\n",
    "%matplotlib inline\n",
    "\n",
    "plt.figure()\n",
    "plt.plot(len_mem, 'o', alpha=0.2)"
   ]
  },
  {
   "cell_type": "code",
   "execution_count": 18,
   "metadata": {},
   "outputs": [
    {
     "name": "stdout",
     "output_type": "stream",
     "text": [
      "0\n",
      "500\n",
      "1000\n",
      "1500\n",
      "2000\n",
      "2500\n",
      "3000\n",
      "3500\n",
      "4000\n",
      "4500\n",
      "5000\n",
      "5500\n",
      "6000\n",
      "6500\n",
      "7000\n",
      "7500\n",
      "8000\n",
      "8500\n",
      "9000\n",
      "9500\n",
      "10000\n",
      "10500\n",
      "11000\n",
      "11500\n",
      "12000\n",
      "12500\n",
      "13000\n",
      "13500\n",
      "14000\n",
      "14500\n",
      "15000\n",
      "15500\n",
      "16000\n",
      "16500\n",
      "17000\n",
      "17500\n",
      "18000\n",
      "18500\n",
      "19000\n",
      "19500\n",
      "20000\n",
      "20500\n",
      "21000\n",
      "21500\n",
      "22000\n",
      "22500\n",
      "23000\n",
      "23500\n",
      "24000\n",
      "24500\n",
      "25000\n",
      "25500\n",
      "26000\n",
      "26500\n",
      "27000\n",
      "27500\n",
      "28000\n",
      "28500\n",
      "29000\n",
      "29500\n",
      "30000\n",
      "30500\n",
      "31000\n",
      "31500\n",
      "32000\n",
      "32500\n",
      "33000\n",
      "33500\n",
      "34000\n",
      "34500\n",
      "35000\n",
      "35500\n",
      "36000\n",
      "36500\n",
      "37000\n",
      "37500\n",
      "38000\n",
      "38500\n",
      "39000\n",
      "39500\n",
      "40000\n",
      "40500\n",
      "41000\n",
      "41500\n",
      "42000\n",
      "42500\n",
      "43000\n",
      "43500\n",
      "44000\n",
      "44500\n",
      "45000\n",
      "45500\n",
      "46000\n",
      "46500\n",
      "47000\n",
      "47500\n",
      "48000\n",
      "48500\n",
      "49000\n",
      "49500\n",
      "50000\n",
      "50500\n",
      "51000\n",
      "51500\n",
      "52000\n",
      "52500\n",
      "53000\n",
      "53500\n",
      "54000\n",
      "54500\n",
      "55000\n",
      "55500\n",
      "56000\n",
      "56211\n"
     ]
    }
   ],
   "source": [
    "agent.eval()\n",
    "\n",
    "try:\n",
    "    env.seed = random.randint(0, 100000)\n",
    "    obs = env.reset()\n",
    "    env._max_episode_steps = 100000\n",
    "    for t in count():\n",
    "        \n",
    "        if t % 500 == 0:\n",
    "            print(t)\n",
    "        \n",
    "#         env.render()\n",
    "        action = agent.get_action(obs)\n",
    "        obs, reward, done, info = env.step(action)\n",
    "        if done:\n",
    "            env.close()\n",
    "            break\n",
    "\n",
    "    print(t)\n",
    "except KeyboardInterrupt:\n",
    "    pass\n",
    "finally:\n",
    "    env.close()\n",
    "    print (t)"
   ]
  },
  {
   "cell_type": "code",
   "execution_count": 12,
   "metadata": {
    "collapsed": true
   },
   "outputs": [],
   "source": [
    "model = policy_net"
   ]
  },
  {
   "cell_type": "code",
   "execution_count": 13,
   "metadata": {},
   "outputs": [
    {
     "data": {
      "text/plain": [
       "Qnet(\n",
       "  (model): Sequential(\n",
       "    (0): Linear(in_features=4, out_features=32, bias=True)\n",
       "    (1): LeakyReLU(negative_slope=0.01, inplace)\n",
       "    (2): Linear(in_features=32, out_features=2, bias=True)\n",
       "  )\n",
       ")"
      ]
     },
     "execution_count": 13,
     "metadata": {},
     "output_type": "execute_result"
    }
   ],
   "source": [
    "model.to('cpu')"
   ]
  },
  {
   "cell_type": "code",
   "execution_count": 14,
   "metadata": {},
   "outputs": [
    {
     "name": "stderr",
     "output_type": "stream",
     "text": [
      "/usr/local/lib/python3.5/dist-packages/torch/serialization.py:251: UserWarning: Couldn't retrieve source code for container of type Qnet. It won't be checked for correctness upon loading.\n",
      "  \"type \" + obj.__name__ + \". It won't be checked \"\n"
     ]
    }
   ],
   "source": [
    "torch.save(model, 'model.torch')"
   ]
  },
  {
   "cell_type": "code",
   "execution_count": 26,
   "metadata": {
    "collapsed": true
   },
   "outputs": [],
   "source": [
    "model = torch.load('model.torch')"
   ]
  },
  {
   "cell_type": "code",
   "execution_count": 27,
   "metadata": {},
   "outputs": [
    {
     "data": {
      "text/plain": [
       "Qnet(\n",
       "  (model): Sequential(\n",
       "    (0): Linear(in_features=4, out_features=32, bias=True)\n",
       "    (1): LeakyReLU(negative_slope=0.01, inplace)\n",
       "    (2): Linear(in_features=32, out_features=2, bias=True)\n",
       "  )\n",
       ")"
      ]
     },
     "execution_count": 27,
     "metadata": {},
     "output_type": "execute_result"
    }
   ],
   "source": [
    "model.to(device)"
   ]
  },
  {
   "cell_type": "code",
   "execution_count": 28,
   "metadata": {
    "collapsed": true
   },
   "outputs": [],
   "source": [
    "policy_net = model"
   ]
  },
  {
   "cell_type": "code",
   "execution_count": null,
   "metadata": {
    "collapsed": true
   },
   "outputs": [],
   "source": []
  }
 ],
 "metadata": {
  "kernelspec": {
   "display_name": "Python 3",
   "language": "python",
   "name": "python3"
  },
  "language_info": {
   "codemirror_mode": {
    "name": "ipython",
    "version": 3
   },
   "file_extension": ".py",
   "mimetype": "text/x-python",
   "name": "python",
   "nbconvert_exporter": "python",
   "pygments_lexer": "ipython3",
   "version": "3.7.3"
  }
 },
 "nbformat": 4,
 "nbformat_minor": 2
}
