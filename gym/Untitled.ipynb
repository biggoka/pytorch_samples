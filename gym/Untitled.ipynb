{
 "cells": [
  {
   "cell_type": "code",
   "execution_count": 3,
   "metadata": {
    "collapsed": true
   },
   "outputs": [],
   "source": [
    "import gym\n",
    "import numpy as np\n",
    "import random\n",
    "import torch\n"
   ]
  },
  {
   "cell_type": "code",
   "execution_count": 4,
   "metadata": {
    "collapsed": true
   },
   "outputs": [],
   "source": [
    "device = 'cuda' if torch.cuda.is_available() else 'cpu'"
   ]
  },
  {
   "cell_type": "code",
   "execution_count": 33,
   "metadata": {
    "collapsed": true
   },
   "outputs": [],
   "source": [
    "class Memory():\n",
    "    def __init__(self, capacity=10000):\n",
    "        self.capacity = capacity\n",
    "        self.memory = []\n",
    "        self.short_memory = []\n",
    "        \n",
    "    def push(self, obs, action):\n",
    "        self.short_memory.append([obs, action, 1 - abs(obs[0])/10.0])\n",
    "        \n",
    "    def commit(self, final_reward, good=False):\n",
    "#         for i in range(len(self.short_memory)):\n",
    "#             self.short_memory[i][2] = final_reward\n",
    "        coeff = 1\n",
    "        if not good:\n",
    "            for i in range(len(self.short_memory) - 30, len(self.short_memory)):\n",
    "                if i < 0: continue\n",
    "                self.short_memory[i][2] = self.short_memory[i][2] * coeff\n",
    "                coeff *= 0.89\n",
    "            \n",
    "        if len(self.memory) + len(self.short_memory) < self.capacity:\n",
    "            self.memory.extend(self.short_memory)\n",
    "        else:\n",
    "            for memo in self.short_memory:\n",
    "                if random.random() > 0.5:\n",
    "                    self.memory.insert(0, memo)\n",
    "                else:\n",
    "                    self.memory[random.randint(0, self.capacity-1)] = memo\n",
    "        \n",
    "        self.short_memory = []"
   ]
  },
  {
   "cell_type": "code",
   "execution_count": 45,
   "metadata": {
    "collapsed": true,
    "scrolled": true
   },
   "outputs": [],
   "source": [
    "model = torch.nn.Sequential(\n",
    "    torch.nn.Linear(4, 8),\n",
    "    torch.nn.LeakyReLU(inplace=True),\n",
    "#     torch.nn.Linear(32, 32),\n",
    "#     torch.nn.LeakyReLU(inplace=True),\n",
    "    torch.nn.Linear(8, 2),\n",
    "    torch.nn.Sigmoid(),\n",
    "    torch.nn.Softmax(dim=1),\n",
    ")\n",
    "\n",
    "model.to(device)\n",
    "\n",
    "optim = torch.optim.Adam(model.parameters(), lr=0.1)\n",
    "\n",
    "from torch.optim.lr_scheduler import StepLR\n",
    "scheduler = StepLR(optim, step_size=50, gamma=0.95)"
   ]
  },
  {
   "cell_type": "code",
   "execution_count": 46,
   "metadata": {
    "scrolled": false
   },
   "outputs": [
    {
     "name": "stdout",
     "output_type": "stream",
     "text": [
      "Episode   0:     17.000 iterations, eps=0.789980\n",
      "Episode  10:    116.818 iterations, eps=0.322820\n",
      "Episode  20:    571.950 iterations, eps=0.030000\n",
      "Episode  30:   1132.350 iterations, eps=0.030000\n",
      "Episode  40:   1396.700 iterations, eps=0.030000\n",
      "Episode  50:   1536.050 iterations, eps=0.030000\n",
      "Episode  60:   1538.450 iterations, eps=0.030000\n",
      "Episode  70:   1470.850 iterations, eps=0.030000\n",
      "Episode  80:   1536.450 iterations, eps=0.030000\n",
      "Episode  90:   1649.150 iterations, eps=0.030000\n",
      "Episode 100:   1742.200 iterations, eps=0.030000\n",
      "Episode 110:   1686.450 iterations, eps=0.030000\n",
      "Episode 120:   1281.550 iterations, eps=0.030000\n",
      "Episode 130:   1423.500 iterations, eps=0.030000\n",
      "Episode 140:   1680.100 iterations, eps=0.030000\n",
      "Episode 150:   1515.300 iterations, eps=0.030000\n",
      "Episode 160:   1586.250 iterations, eps=0.030000\n",
      "Episode 170:   1582.500 iterations, eps=0.030000\n",
      "Episode 180:   1388.000 iterations, eps=0.030000\n",
      "Episode 190:   1503.100 iterations, eps=0.030000\n",
      "Episode 200:   1546.150 iterations, eps=0.030000\n",
      "Episode 210:   1297.400 iterations, eps=0.030000\n"
     ]
    }
   ],
   "source": [
    "env = gym.make('CartPole-v0')\n",
    "env._max_episode_steps = 2000\n",
    "\n",
    "STEP = 0\n",
    "EPS = 0.8\n",
    "EPS_MIN = 0.03\n",
    "GAMMA = 0.9993\n",
    "\n",
    "\n",
    "def get_model_action(model, observation, device, train=True):\n",
    "    global STEP, EPS, EPS_MIN, GAMMA\n",
    "    STEP += 1\n",
    "    EPS = EPS * GAMMA\n",
    "    EPS = max(EPS, EPS_MIN)\n",
    "    \n",
    "    if not train or random.random() > EPS:\n",
    "        with torch.no_grad():\n",
    "            model_output = model(torch.FloatTensor(obs).to(device).unsqueeze(0)).cpu().detach().numpy()\n",
    "            action = np.argmax(model_output)\n",
    "    else:\n",
    "        action = random.randint(0, 1)\n",
    "    return action\n",
    "\n",
    "def train(model, memory, device):\n",
    "    memory = memory.memory\n",
    "\n",
    "    train_data = []\n",
    "    for memo in memory:\n",
    "        obs, action, reward = memo\n",
    "        if action == 0:\n",
    "            action = [reward, 1-reward]\n",
    "        else:\n",
    "            action = [1-reward, reward]\n",
    "        train_data.append([obs, action])\n",
    "        \n",
    "    batch_size = 1024\n",
    "    np.random.shuffle(train_data)\n",
    "    \n",
    "    for i in range((len(train_data) // batch_size)):\n",
    "        model.zero_grad()\n",
    "        \n",
    "        data = train_data[i*batch_size : i*batch_size + batch_size]\n",
    "        x, y = [x[0] for x in data], [x[1] for x in data]\n",
    "        output = model(torch.FloatTensor(x).to(device))\n",
    "        loss = torch.nn.functional.l1_loss(output, torch.FloatTensor(y).to(device))\n",
    "        loss.backward()\n",
    "        optim.step()\n",
    "        \n",
    "    scheduler.step()\n",
    "\n",
    "memory = Memory(capacity=5000)\n",
    "\n",
    "#get starting actions\n",
    "for episode in range(2000):\n",
    "    obs = env.reset()\n",
    "    for i in range(100):\n",
    "        action = env.action_space.sample()\n",
    "        memory.push(obs, action)\n",
    "        obs, reward, done, info = env.step(action)\n",
    "        if done:\n",
    "            env.close()\n",
    "            break\n",
    "    memory.commit(i)\n",
    "        \n",
    "\n",
    "from itertools import count\n",
    "\n",
    "len_mem = []\n",
    "try:\n",
    "    for episode in range(1000):\n",
    "        obs = env.reset()\n",
    "\n",
    "        for i in count():\n",
    "#             env.render()\n",
    "\n",
    "            action = get_model_action(model, obs, device)\n",
    "            memory.push(obs, action)\n",
    "            obs, reward, done, info = env.step(action)\n",
    "\n",
    "            if done:\n",
    "                env.close()\n",
    "                len_mem.append(i)\n",
    "                memory.commit(i, good=abs(i-2000)<100)\n",
    "                break\n",
    "\n",
    "        \n",
    "        if episode % 10 == 0:\n",
    "            print('Episode {:3d}: {:10.3f} iterations, eps={:6.6f}'.format(episode, np.mean(len_mem[-20:]), EPS))\n",
    "\n",
    "        \n",
    "        \n",
    "        train(model, memory, device)\n",
    "    \n",
    "except KeyboardInterrupt:\n",
    "    env.close()"
   ]
  },
  {
   "cell_type": "code",
   "execution_count": 47,
   "metadata": {
    "scrolled": true
   },
   "outputs": [
    {
     "data": {
      "text/plain": [
       "[<matplotlib.lines.Line2D at 0x7f85a1dd81d0>]"
      ]
     },
     "execution_count": 47,
     "metadata": {},
     "output_type": "execute_result"
    },
    {
     "data": {
      "image/png": "[encoded data removed]",
      "text/plain": [
       "<matplotlib.figure.Figure at 0x7f85d51c7ac8>"
      ]
     },
     "metadata": {},
     "output_type": "display_data"
    }
   ],
   "source": [
    "import matplotlib.pyplot as plt\n",
    "%matplotlib inline\n",
    "\n",
    "plt.figure()\n",
    "plt.plot(len_mem, 'o')"
   ]
  },
  {
   "cell_type": "code",
   "execution_count": 48,
   "metadata": {},
   "outputs": [
    {
     "name": "stdout",
     "output_type": "stream",
     "text": [
      "4999\n",
      "4999\n"
     ]
    }
   ],
   "source": [
    "try:\n",
    "    env.reset()\n",
    "    env._max_episode_steps = 5000\n",
    "    for t in count():\n",
    "        env.render()\n",
    "        action = get_model_action(model, obs, device, train=False)\n",
    "        obs, reward, done, info = env.step(action)\n",
    "        if done:\n",
    "            env.close()\n",
    "            break\n",
    "\n",
    "    print(t)\n",
    "except KeyboardInterrupt:\n",
    "    pass\n",
    "finally:\n",
    "    env.close()\n",
    "    print(t)"
   ]
  },
  {
   "cell_type": "code",
   "execution_count": 49,
   "metadata": {},
   "outputs": [
    {
     "data": {
      "text/plain": [
       "Sequential(\n",
       "  (0): Linear(in_features=4, out_features=8, bias=True)\n",
       "  (1): LeakyReLU(negative_slope=0.01, inplace)\n",
       "  (2): Linear(in_features=8, out_features=2, bias=True)\n",
       "  (3): Sigmoid()\n",
       "  (4): Softmax()\n",
       ")"
      ]
     },
     "execution_count": 49,
     "metadata": {},
     "output_type": "execute_result"
    }
   ],
   "source": [
    "model.to('cpu')"
   ]
  },
  {
   "cell_type": "code",
   "execution_count": 50,
   "metadata": {
    "collapsed": true
   },
   "outputs": [],
   "source": [
    "torch.save(model, 'model.torch')"
   ]
  },
  {
   "cell_type": "code",
   "execution_count": 474,
   "metadata": {
    "collapsed": true
   },
   "outputs": [],
   "source": [
    "model = torch.load('model.torch')"
   ]
  },
  {
   "cell_type": "code",
   "execution_count": 475,
   "metadata": {},
   "outputs": [
    {
     "data": {
      "text/plain": [
       "Sequential(\n",
       "  (0): Linear(in_features=4, out_features=32, bias=True)\n",
       "  (1): LeakyReLU(negative_slope=0.01, inplace)\n",
       "  (2): Linear(in_features=32, out_features=2, bias=True)\n",
       "  (3): Sigmoid()\n",
       "  (4): Softmax()\n",
       ")"
      ]
     },
     "execution_count": 475,
     "metadata": {},
     "output_type": "execute_result"
    }
   ],
   "source": [
    "model.to(device)"
   ]
  },
  {
   "cell_type": "code",
   "execution_count": null,
   "metadata": {
    "collapsed": true
   },
   "outputs": [],
   "source": []
  }
 ],
 "metadata": {
  "kernelspec": {
   "display_name": "Python 3",
   "language": "python",
   "name": "python3"
  },
  "language_info": {
   "codemirror_mode": {
    "name": "ipython",
    "version": 3
   },
   "file_extension": ".py",
   "mimetype": "text/x-python",
   "name": "python",
   "nbconvert_exporter": "python",
   "pygments_lexer": "ipython3",
   "version": "3.5.2"
  }
 },
 "nbformat": 4,
 "nbformat_minor": 2
}
