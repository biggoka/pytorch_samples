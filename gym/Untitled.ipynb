{
 "cells": [
  {
   "cell_type": "code",
   "execution_count": 1,
   "metadata": {},
   "outputs": [],
   "source": [
    "import gym\n",
    "import numpy as np\n",
    "import random\n",
    "import torch\n"
   ]
  },
  {
   "cell_type": "code",
   "execution_count": 92,
   "metadata": {},
   "outputs": [],
   "source": [
    "device = torch.device('cuda' if torch.cuda.is_available() else 'cpu')"
   ]
  },
  {
   "cell_type": "code",
   "execution_count": 166,
   "metadata": {},
   "outputs": [],
   "source": [
    "class Memory():\n",
    "    def __init__(self, capacity=10000):\n",
    "        self.capacity = capacity\n",
    "        self.memory = []\n",
    "        self.short_memory = []\n",
    "        \n",
    "    def push(self, old_state, action, reward, new_state):\n",
    "        self.short_memory.append([old_state, action, reward, new_state, False])\n",
    "        \n",
    "    def commit(self, final=True): \n",
    "        \n",
    "        self.short_memory[-1][-1] = final\n",
    "        \n",
    "# #         discount\n",
    "#         for i, memo in enumerate(self.short_memory[::-1]):\n",
    "#             old_state, action, reward, new_state, *_ = memo\n",
    "            \n",
    "#             if i == 0:\n",
    "#                 prev_reward = reward\n",
    "#                 continue\n",
    "                \n",
    "#             reward, prev_reward = prev_reward * 0.99 + reward, reward\n",
    "#             self.short_memory[len(self.short_memory) - 1 - i][2] = reward \n",
    "            \n",
    "        self.short_memory = [x for x in self.short_memory if x[-1] == False]\n",
    "        \n",
    "        if len(self.memory) + len(self.short_memory) < self.capacity:\n",
    "            self.memory.extend(self.short_memory)\n",
    "        else:\n",
    "            for memo in self.short_memory:\n",
    "                self.memory.insert(0, memo)\n",
    "        \n",
    "        self.short_memory = []"
   ]
  },
  {
   "cell_type": "code",
   "execution_count": 167,
   "metadata": {
    "scrolled": true
   },
   "outputs": [],
   "source": [
    "model = torch.nn.Sequential(\n",
    "    torch.nn.Linear(4, 8),\n",
    "    torch.nn.LeakyReLU(inplace=True),\n",
    "#     torch.nn.Linear(32, 32),\n",
    "#     torch.nn.LeakyReLU(inplace=True),\n",
    "    torch.nn.Linear(8, 2),\n",
    "#     torch.nn.Sigmoid(),\n",
    "#     torch.nn.Softmax(dim=1),\n",
    ")\n",
    "\n",
    "model.to(device)\n",
    "\n",
    "optim = torch.optim.Adam(model.parameters(), lr=0.1)\n",
    "\n",
    "from torch.optim.lr_scheduler import StepLR\n",
    "scheduler = StepLR(optim, step_size=30, gamma=0.97)"
   ]
  },
  {
   "cell_type": "code",
   "execution_count": 195,
   "metadata": {},
   "outputs": [],
   "source": [
    "class Qnet(torch.nn.Module):\n",
    "    def __init__(self):\n",
    "        super(Qnet, self).__init__()\n",
    "        self.model = torch.nn.Sequential(\n",
    "            torch.nn.Linear(4, 8),\n",
    "            torch.nn.LeakyReLU(inplace=True),\n",
    "        #     torch.nn.Linear(32, 32),\n",
    "        #     torch.nn.LeakyReLU(inplace=True),\n",
    "            torch.nn.Linear(8, 2),\n",
    "#             torch.nn.Sigmoid(),\n",
    "        #     torch.nn.Softmax(dim=1),\n",
    "        )\n",
    "    \n",
    "    def forward(self, x):\n",
    "        return self.model(x)\n",
    "\n",
    "policy_net = Qnet().to(device)\n",
    "target_net = Qnet().to(device)\n",
    "\n",
    "target_net.load_state_dict(policy_net.state_dict())\n",
    "\n",
    "optim = torch.optim.Adam(policy_net.parameters(), lr=0.05)\n",
    "\n",
    "from torch.optim.lr_scheduler import StepLR\n",
    "scheduler = StepLR(optim, step_size=30, gamma=0.97)    "
   ]
  },
  {
   "cell_type": "code",
   "execution_count": 197,
   "metadata": {
    "scrolled": false
   },
   "outputs": [
    {
     "name": "stdout",
     "output_type": "stream",
     "text": [
      "Episode   0:     14.000 iterations, eps=0.798801\n",
      "Episode  50:     16.600 iterations, eps=0.727713\n",
      "Episode 100:     14.900 iterations, eps=0.664744\n",
      "Episode 150:     14.000 iterations, eps=0.616217\n",
      "Episode 200:     14.350 iterations, eps=0.569577\n",
      "Episode 250:     12.100 iterations, eps=0.528261\n",
      "Episode 300:     11.600 iterations, eps=0.491758\n",
      "Episode 350:     11.150 iterations, eps=0.458511\n",
      "Episode 400:     11.700 iterations, eps=0.428410\n",
      "Episode 450:     11.650 iterations, eps=0.404106\n",
      "Episode 500:     11.150 iterations, eps=0.380914\n",
      "Episode 550:     10.650 iterations, eps=0.358910\n"
     ]
    }
   ],
   "source": [
    "env = gym.make('CartPole-v0')\n",
    "env._max_episode_steps = 2000\n",
    "\n",
    "STEP = 0\n",
    "EPS = 0.8\n",
    "EPS_MIN = 0.05\n",
    "GAMMA = 0.9999\n",
    "\n",
    "\n",
    "def get_model_action(model, state, device, train=True):\n",
    "    global STEP, EPS, EPS_MIN, GAMMA\n",
    "    STEP += 1\n",
    "    EPS = EPS * GAMMA\n",
    "    EPS = max(EPS, EPS_MIN)\n",
    "    \n",
    "    if not train or random.random() > EPS:\n",
    "        with torch.no_grad():\n",
    "            model_output = model(torch.FloatTensor(state).to(device).unsqueeze(0)).cpu().detach().numpy()\n",
    "            action = np.argmax(model_output[0])\n",
    "    else:\n",
    "        action = random.randint(0, 1)\n",
    "    return action\n",
    "\n",
    "def train(model, memory, device):\n",
    "    memory = memory.memory\n",
    "    np.random.shuffle(memory)\n",
    "    memory = memory[:512]\n",
    "    \n",
    "    old = [x[0] for x in memory]\n",
    "    actions = [[x[1]] for x in memory]\n",
    "    rewards = [x[2] for x in memory]\n",
    "    new = [x[3] for x in memory]\n",
    "    \n",
    "    old = torch.FloatTensor(old).to(device)\n",
    "    new = torch.FloatTensor(new).to(device)\n",
    "    rewards = torch.FloatTensor(rewards).to(device)\n",
    "    actions = torch.LongTensor(actions).to(device)\n",
    "    \n",
    "#     print(old)\n",
    "#     print(new)\n",
    "#     print(rewards)\n",
    "#     print(actions)\n",
    "    \n",
    "    \n",
    "    state_action_values = policy_net(old).gather(1, actions)\n",
    "    next_state_values = target_net(new).max(1)[0].detach()\n",
    "    expected_state_action_values = (next_state_values * 0.999) + rewards\n",
    "#     print('next', next_state_values)\n",
    "#     print('rew', rewards)\n",
    "#     print('exp', expected_state_action_values)\n",
    "#     assert False\n",
    "    loss = torch.nn.functional.smooth_l1_loss(state_action_values, expected_state_action_values)\n",
    "    \n",
    "    policy_net.zero_grad()\n",
    "    loss.backward()\n",
    "    for param in policy_net.parameters():\n",
    "        param.grad.data.clamp_(-1, 1)\n",
    "    optim.step()\n",
    "\n",
    "#     train_data = []\n",
    "#     for memo in memory:\n",
    "#         old_state, action, reward, new_state, *_ = memo\n",
    "        \n",
    "#         state_value = policy_net(torch.FloatTensor(old_state).to(device).unsqueeze(0)).cpu().detach().numpy()\n",
    "#         state_value = np.argmax(state_value)\n",
    "        \n",
    "#         expected = target_net(torch.FloatTensor(new_state).to(device).unsqueeze(0)).cpu().detach().numpy()\n",
    "#         expected = np.argmax(expected[0])\n",
    "#         expected = expected * 0.96 + reward\n",
    "        \n",
    "        \n",
    "        \n",
    "#         train_data.append([state_value, expected])\n",
    "        \n",
    "#     batch_size = 1024\n",
    "#     np.random.shuffle(train_data)\n",
    "    \n",
    "#     for i in range((len(train_data) // batch_size)):\n",
    "#         policy_net.zero_grad()\n",
    "        \n",
    "#         data = train_data[i*batch_size : i*batch_size + batch_size]\n",
    "#         x, y = [x[0] for x in data], [x[1] for x in data]\n",
    "#         x = torch.FloatTensor(x).to(device)\n",
    "#         y = torch.FloatTensor(x).to(device)\n",
    "# #         output = model(torch.FloatTensor(x).to(device))\n",
    "# #         loss = torch.nn.functional.l1_loss(output, torch.FloatTensor(y).to(device))\n",
    "#         loss = torch.nn.functional.smooth_l1_loss(x, y)\n",
    "#         loss.backward()\n",
    "#         optim.step()\n",
    "        \n",
    "    scheduler.step()\n",
    "\n",
    "memory = Memory(capacity=10000)\n",
    "\n",
    "#get starting actions\n",
    "# for episode in range(100):\n",
    "#     state = env.reset()\n",
    "#     for i in range(100):\n",
    "#         action = env.action_space.sample()\n",
    "#         old_state = state\n",
    "#         state, reward, done, info = env.step(action)\n",
    "        \n",
    "#         memory.push(old_state, action, reward, state)\n",
    "#         state = old_state\n",
    "#         if done:\n",
    "#             env.close()\n",
    "#             break\n",
    "#     memory.commit()\n",
    "        \n",
    "\n",
    "from itertools import count\n",
    "\n",
    "len_mem = []\n",
    "try:\n",
    "    for episode in range(10000):\n",
    "        state = env.reset()\n",
    "\n",
    "        for i in count():\n",
    "#             env.render()\n",
    "\n",
    "            action = get_model_action(policy_net, state, device)\n",
    "            old_state = state\n",
    "            state, reward, done, info = env.step(action)\n",
    "            \n",
    "            memory.push(old_state, action, reward, state)\n",
    "            state = old_state\n",
    "\n",
    "            if done:\n",
    "                env.close()\n",
    "                len_mem.append(i)\n",
    "                memory.commit(final=i!=2000)\n",
    "                break\n",
    "\n",
    "        \n",
    "        if episode % 50 == 0:\n",
    "            print('Episode {:3d}: {:10.3f} iterations, eps={:6.6f}'.format(episode, np.mean(len_mem[-20:]), EPS))\n",
    "        \n",
    "        train(policy_net, memory, device)\n",
    "        \n",
    "        if episode % 1 == 0:\n",
    "            target_net.load_state_dict(policy_net.state_dict())\n",
    "            \n",
    "    \n",
    "except KeyboardInterrupt:\n",
    "    env.close()"
   ]
  },
  {
   "cell_type": "code",
   "execution_count": 147,
   "metadata": {
    "scrolled": true
   },
   "outputs": [
    {
     "data": {
      "text/plain": [
       "[<matplotlib.lines.Line2D at 0x7f5ba48b8908>]"
      ]
     },
     "execution_count": 147,
     "metadata": {},
     "output_type": "execute_result"
    },
    {
     "data": {
      "image/png": "[encoded data removed]",
      "text/plain": [
       "<matplotlib.figure.Figure at 0x7f5ba5776b70>"
      ]
     },
     "metadata": {},
     "output_type": "display_data"
    }
   ],
   "source": [
    "import matplotlib.pyplot as plt\n",
    "%matplotlib inline\n",
    "\n",
    "plt.figure()\n",
    "plt.plot(len_mem, 'o')"
   ]
  },
  {
   "cell_type": "code",
   "execution_count": 91,
   "metadata": {},
   "outputs": [
    {
     "name": "stdout",
     "output_type": "stream",
     "text": [
      "63\n",
      "63\n"
     ]
    }
   ],
   "source": [
    "try:\n",
    "    env.seed = random.randint(0, 100000)\n",
    "    obs = env.reset()\n",
    "    env._max_episode_steps = 5000\n",
    "    for t in count():\n",
    "        env.render()\n",
    "        action = get_model_action(model, obs, device, train=False)\n",
    "        obs, reward, done, info = env.step(action)\n",
    "        if done:\n",
    "            env.close()\n",
    "            break\n",
    "\n",
    "    print(t)\n",
    "except KeyboardInterrupt:\n",
    "    pass\n",
    "finally:\n",
    "    env.close()\n",
    "    print(t)"
   ]
  },
  {
   "cell_type": "code",
   "execution_count": 49,
   "metadata": {},
   "outputs": [
    {
     "data": {
      "text/plain": [
       "Sequential(\n",
       "  (0): Linear(in_features=4, out_features=8, bias=True)\n",
       "  (1): LeakyReLU(negative_slope=0.01, inplace)\n",
       "  (2): Linear(in_features=8, out_features=2, bias=True)\n",
       "  (3): Sigmoid()\n",
       "  (4): Softmax()\n",
       ")"
      ]
     },
     "execution_count": 49,
     "metadata": {},
     "output_type": "execute_result"
    }
   ],
   "source": [
    "model.to('cpu')"
   ]
  },
  {
   "cell_type": "code",
   "execution_count": 50,
   "metadata": {
    "collapsed": true
   },
   "outputs": [],
   "source": [
    "torch.save(model, 'model.torch')"
   ]
  },
  {
   "cell_type": "code",
   "execution_count": 51,
   "metadata": {},
   "outputs": [],
   "source": [
    "model = torch.load('model.torch')"
   ]
  },
  {
   "cell_type": "code",
   "execution_count": 52,
   "metadata": {},
   "outputs": [
    {
     "data": {
      "text/plain": [
       "Sequential(\n",
       "  (0): Linear(in_features=4, out_features=8, bias=True)\n",
       "  (1): LeakyReLU(negative_slope=0.01, inplace)\n",
       "  (2): Linear(in_features=8, out_features=2, bias=True)\n",
       "  (3): Sigmoid()\n",
       "  (4): Softmax()\n",
       ")"
      ]
     },
     "execution_count": 52,
     "metadata": {},
     "output_type": "execute_result"
    }
   ],
   "source": [
    "model.to(device)"
   ]
  },
  {
   "cell_type": "code",
   "execution_count": null,
   "metadata": {
    "collapsed": true
   },
   "outputs": [],
   "source": []
  }
 ],
 "metadata": {
  "kernelspec": {
   "display_name": "Python 3",
   "language": "python",
   "name": "python3"
  },
  "language_info": {
   "codemirror_mode": {
    "name": "ipython",
    "version": 3
   },
   "file_extension": ".py",
   "mimetype": "text/x-python",
   "name": "python",
   "nbconvert_exporter": "python",
   "pygments_lexer": "ipython3",
   "version": "3.5.2"
  }
 },
 "nbformat": 4,
 "nbformat_minor": 2
}
