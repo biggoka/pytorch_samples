{
 "cells": [
  {
   "cell_type": "code",
   "execution_count": 210,
   "metadata": {
    "collapsed": true
   },
   "outputs": [],
   "source": [
    "import gym\n",
    "import numpy as np\n",
    "import random"
   ]
  },
  {
   "cell_type": "code",
   "execution_count": 22,
   "metadata": {
    "collapsed": true
   },
   "outputs": [],
   "source": [
    "import torch"
   ]
  },
  {
   "cell_type": "code",
   "execution_count": 356,
   "metadata": {
    "collapsed": true
   },
   "outputs": [],
   "source": [
    "device = 'cuda' if torch.cuda.is_available() else 'cpu'\n",
    "# device = 'cpu'"
   ]
  },
  {
   "cell_type": "code",
   "execution_count": 409,
   "metadata": {},
   "outputs": [
    {
     "name": "stdout",
     "output_type": "stream",
     "text": [
      "[1, 1, 1, 1, 1, 1, 1, 1, 1, 1, 1, 0.9, 0.81, 0.7290000000000001, 0.6561000000000001, 0.5904900000000002, 0.5314410000000002, 0.47829690000000014, 0.43046721000000016, 0.38742048900000015, 0.34867844010000015, 0.31381059609000017, 0.28242953648100017, 0.25418658283290013, 0.22876792454961012, 0.2058911320946491, 0.1853020188851842, 0.16677181699666577, 0.1500946352969992, 0.13508517176729928, 0.12157665459056936, 0.10941898913151243, 0.0984770902183612, 0.08862938119652508, 0.07976644307687257, 0.07178979876918531, 0.06461081889226679, 0.05814973700304011, 0.0523347633027361, 0.04710128697246249, 0.042391158275216244, 0.03815204244769462, 0.03433683820292516, 0.030903154382632643, 0.02781283894436938, 0.025031555049932444, 0.0225283995449392, 0.020275559590445278, 0.01824800363140075, 0.016423203268260675]\n"
     ]
    }
   ],
   "source": [
    "a = [1] * 50\n",
    "coeff = 1\n",
    "for i in range(len(a) - 40, len(a)):\n",
    "    a[i] = a[i] * coeff\n",
    "    coeff = coeff * 0.9\n",
    "print(a)"
   ]
  },
  {
   "cell_type": "code",
   "execution_count": 464,
   "metadata": {},
   "outputs": [],
   "source": [
    "class Memory():\n",
    "    def __init__(self, capacity=10000):\n",
    "        self.capacity = capacity\n",
    "        self.memory = []\n",
    "        self.short_memory = []\n",
    "        \n",
    "    def push(self, obs, action):\n",
    "        self.short_memory.append([obs, action, 1 - abs(obs[0])/5.0])\n",
    "        \n",
    "    def commit(self, final_reward):\n",
    "#         for i in range(len(self.short_memory)):\n",
    "#             self.short_memory[i][2] = final_reward\n",
    "        coeff = 1\n",
    "        for i in range(len(self.short_memory) - 20, len(self.short_memory)):\n",
    "            if i < 0: continue\n",
    "            self.short_memory[i][2] = self.short_memory[i][2] * coeff\n",
    "            coeff *= 0.9\n",
    "            \n",
    "        if len(self.memory) + len(self.short_memory) < self.capacity:\n",
    "            self.memory.extend(self.short_memory)\n",
    "            self.short_memory = []\n",
    "        else:\n",
    "            for memo in self.short_memory:\n",
    "                if random.random() > 0.5:\n",
    "                    self.memory.insert(0, memo)\n",
    "                else:\n",
    "                    self.memory[random.randint(0, self.capacity-1)] = memo\n",
    "            self.short_memory = []"
   ]
  },
  {
   "cell_type": "code",
   "execution_count": 465,
   "metadata": {
    "scrolled": true
   },
   "outputs": [],
   "source": [
    "class My_module(torch.nn.Module):\n",
    "    def __init__(self, device):\n",
    "        super(My_module, self).__init__()\n",
    "        self._device = device\n",
    "        \n",
    "    def forward(self, x):\n",
    "        return x - torch.FloatTensor([0.5]).to(self._device)\n",
    "\n",
    "\n",
    "model = torch.nn.Sequential(\n",
    "    torch.nn.Linear(4, 32),\n",
    "    torch.nn.LeakyReLU(inplace=True),\n",
    "#     torch.nn.Linear(32, 32),\n",
    "#     torch.nn.LeakyReLU(inplace=True),\n",
    "    torch.nn.Linear(32, 2),\n",
    "    torch.nn.Sigmoid(),\n",
    "    torch.nn.Softmax(dim=1),\n",
    ")\n",
    "\n",
    "model.to(device)\n",
    "\n",
    "optim = torch.optim.Adam(model.parameters(), lr=0.1)\n",
    "\n",
    "from torch.optim.lr_scheduler import StepLR\n",
    "scheduler = StepLR(optim, step_size=50, gamma=0.9)"
   ]
  },
  {
   "cell_type": "code",
   "execution_count": 466,
   "metadata": {
    "scrolled": false
   },
   "outputs": [
    {
     "name": "stdout",
     "output_type": "stream",
     "text": [
      "Episode   0:     53.000 iterations, eps=0.895153\n",
      "Episode  10:     21.900 iterations, eps=0.874886\n",
      "Episode  20:     54.900 iterations, eps=0.827319\n",
      "Episode  30:     35.400 iterations, eps=0.797745\n",
      "Episode  40:     46.700 iterations, eps=0.760584\n",
      "Episode  50:     39.500 iterations, eps=0.730394\n",
      "Episode  60:     70.500 iterations, eps=0.679992\n",
      "Episode  70:     98.400 iterations, eps=0.615648\n",
      "Episode  80:    162.100 iterations, eps=0.522993\n",
      "Episode  90:    160.000 iterations, eps=0.445216\n",
      "Episode 100:    256.400 iterations, eps=0.344174\n",
      "Episode 110:    491.500 iterations, eps=0.210318\n",
      "Episode 120:    418.200 iterations, eps=0.138297\n",
      "Episode 130:    570.900 iterations, eps=0.078060\n",
      "Episode 140:    682.400 iterations, eps=0.039411\n",
      "Episode 150:    912.500 iterations, eps=0.020000\n",
      "Episode 160:    816.600 iterations, eps=0.020000\n",
      "Episode 170:    759.300 iterations, eps=0.020000\n",
      "Episode 180:    855.700 iterations, eps=0.020000\n",
      "Episode 190:    844.500 iterations, eps=0.020000\n",
      "Episode 200:    740.600 iterations, eps=0.020000\n",
      "Episode 210:    659.300 iterations, eps=0.020000\n",
      "Episode 220:    743.400 iterations, eps=0.020000\n",
      "Episode 230:    742.700 iterations, eps=0.020000\n",
      "Episode 240:    581.600 iterations, eps=0.020000\n",
      "Episode 250:    713.200 iterations, eps=0.020000\n",
      "Episode 260:    880.400 iterations, eps=0.020000\n",
      "Episode 270:    774.600 iterations, eps=0.020000\n",
      "Episode 280:    687.900 iterations, eps=0.020000\n",
      "Episode 290:    617.800 iterations, eps=0.020000\n",
      "Episode 300:    794.300 iterations, eps=0.020000\n",
      "Episode 310:    836.500 iterations, eps=0.020000\n",
      "Episode 320:    744.500 iterations, eps=0.020000\n",
      "Episode 330:    873.300 iterations, eps=0.020000\n",
      "Episode 340:    772.900 iterations, eps=0.020000\n",
      "Episode 350:    777.100 iterations, eps=0.020000\n",
      "Episode 360:    894.800 iterations, eps=0.020000\n",
      "Episode 370:    919.500 iterations, eps=0.020000\n",
      "Episode 380:    914.800 iterations, eps=0.020000\n",
      "Episode 390:    680.300 iterations, eps=0.020000\n",
      "Episode 400:    678.600 iterations, eps=0.020000\n",
      "Episode 410:    753.500 iterations, eps=0.020000\n",
      "Episode 420:    751.100 iterations, eps=0.020000\n",
      "Episode 430:    837.800 iterations, eps=0.020000\n",
      "Episode 440:    696.800 iterations, eps=0.020000\n",
      "Episode 450:    787.200 iterations, eps=0.020000\n",
      "Episode 460:    855.600 iterations, eps=0.020000\n",
      "Episode 470:    715.800 iterations, eps=0.020000\n",
      "Episode 480:    762.400 iterations, eps=0.020000\n",
      "Episode 490:    855.300 iterations, eps=0.020000\n",
      "Episode 500:    791.500 iterations, eps=0.020000\n",
      "Episode 510:    903.300 iterations, eps=0.020000\n"
     ]
    }
   ],
   "source": [
    "env = gym.make('CartPole-v0')\n",
    "env._max_episode_steps = 1000\n",
    "\n",
    "STEP = 0\n",
    "EPS = 0.9\n",
    "EPS_MIN = 0.02\n",
    "GAMMA = 0.9999\n",
    "\n",
    "\n",
    "def get_model_action(model, observation, device, train=True):\n",
    "    global STEP, EPS, EPS_MIN, GAMMA\n",
    "    STEP += 1\n",
    "    EPS = EPS * GAMMA\n",
    "    EPS = max(EPS, EPS_MIN)\n",
    "    \n",
    "    if not train or random.random() > EPS:\n",
    "        with torch.no_grad():\n",
    "            model_output = model(torch.FloatTensor(obs).to(device).unsqueeze(0)).cpu().detach().numpy()\n",
    "            action = np.argmax(model_output)\n",
    "    else:\n",
    "        action = random.randint(0, 1)\n",
    "    return action\n",
    "\n",
    "def train(model, memory, device):\n",
    "    memory = memory.memory\n",
    "\n",
    "    train_data = []\n",
    "    for memo in memory:\n",
    "        obs, action, reward = memo\n",
    "        if action == 0:\n",
    "            action = [reward, 1-reward]\n",
    "        else:\n",
    "            action = [1-reward, reward]\n",
    "        train_data.append([obs, action])\n",
    "        \n",
    "    batch_size = 1024\n",
    "    np.random.shuffle(train_data)\n",
    "    \n",
    "    for i in range((len(train_data) // batch_size)):\n",
    "        model.zero_grad()\n",
    "        \n",
    "        data = train_data[i*batch_size : i*batch_size + batch_size]\n",
    "        x, y = [x[0] for x in data], [x[1] for x in data]\n",
    "        output = model(torch.FloatTensor(x).to(device))\n",
    "        loss = torch.nn.functional.l1_loss(output, torch.FloatTensor(y).to(device))\n",
    "        loss.backward()\n",
    "        optim.step()\n",
    "        \n",
    "    scheduler.step()\n",
    "\n",
    "memory = Memory()\n",
    "\n",
    "#get starting actions\n",
    "for episode in range(2000):\n",
    "    obs = env.reset()\n",
    "    for i in range(100):\n",
    "        action = env.action_space.sample()\n",
    "        memory.push(obs, action)\n",
    "        obs, reward, done, info = env.step(action)\n",
    "        if done:\n",
    "            env.close()\n",
    "            break\n",
    "    memory.commit(i)\n",
    "        \n",
    "\n",
    "from itertools import count\n",
    "\n",
    "len_mem = []\n",
    "try:\n",
    "    for episode in range(1000):\n",
    "        obs = env.reset()\n",
    "\n",
    "        for i in count():\n",
    "#             env.render()\n",
    "\n",
    "            action = get_model_action(model, obs, device)\n",
    "            memory.push(obs, action)\n",
    "            obs, reward, done, info = env.step(action)\n",
    "\n",
    "            if done:\n",
    "                env.close()\n",
    "                len_mem.append(i)\n",
    "                memory.commit(i)\n",
    "                break\n",
    "\n",
    "        \n",
    "        if episode % 10 == 0:\n",
    "            print('Episode {:3d}: {:10.3f} iterations, eps={:6.6f}'.format(episode, np.mean(len_mem[-10:]), EPS))\n",
    "\n",
    "        \n",
    "        \n",
    "        train(model, memory, device)\n",
    "    \n",
    "except KeyboardInterrupt:\n",
    "    env.close()"
   ]
  },
  {
   "cell_type": "code",
   "execution_count": 467,
   "metadata": {
    "scrolled": true
   },
   "outputs": [
    {
     "data": {
      "text/plain": [
       "[<matplotlib.lines.Line2D at 0x7f06711e9550>]"
      ]
     },
     "execution_count": 467,
     "metadata": {},
     "output_type": "execute_result"
    },
    {
     "data": {
      "image/png": "[encoded data removed]",
      "text/plain": [
       "<matplotlib.figure.Figure at 0x7f067101df28>"
      ]
     },
     "metadata": {},
     "output_type": "display_data"
    }
   ],
   "source": [
    "import matplotlib.pyplot as plt\n",
    "%matplotlib inline\n",
    "\n",
    "plt.figure()\n",
    "plt.plot(len_mem, 'o')"
   ]
  },
  {
   "cell_type": "code",
   "execution_count": 477,
   "metadata": {},
   "outputs": [
    {
     "name": "stdout",
     "output_type": "stream",
     "text": [
      "225\n"
     ]
    },
    {
     "ename": "KeyboardInterrupt",
     "evalue": "",
     "output_type": "error",
     "traceback": [
      "\u001b[0;31m---------------------------------------------------------------------------\u001b[0m",
      "\u001b[0;31mKeyboardInterrupt\u001b[0m                         Traceback (most recent call last)",
      "\u001b[0;32m<ipython-input-477-16c5a9ffd53e>\u001b[0m in \u001b[0;36m<module>\u001b[0;34m()\u001b[0m\n\u001b[1;32m      3\u001b[0m     \u001b[0menv\u001b[0m\u001b[0;34m.\u001b[0m\u001b[0m_max_episode_steps\u001b[0m \u001b[0;34m=\u001b[0m \u001b[0;36m5000\u001b[0m\u001b[0;34m\u001b[0m\u001b[0m\n\u001b[1;32m      4\u001b[0m     \u001b[0;32mfor\u001b[0m \u001b[0mt\u001b[0m \u001b[0;32min\u001b[0m \u001b[0mcount\u001b[0m\u001b[0;34m(\u001b[0m\u001b[0;34m)\u001b[0m\u001b[0;34m:\u001b[0m\u001b[0;34m\u001b[0m\u001b[0m\n\u001b[0;32m----> 5\u001b[0;31m         \u001b[0menv\u001b[0m\u001b[0;34m.\u001b[0m\u001b[0mrender\u001b[0m\u001b[0;34m(\u001b[0m\u001b[0;34m)\u001b[0m\u001b[0;34m\u001b[0m\u001b[0m\n\u001b[0m\u001b[1;32m      6\u001b[0m         \u001b[0maction\u001b[0m \u001b[0;34m=\u001b[0m \u001b[0mget_model_action\u001b[0m\u001b[0;34m(\u001b[0m\u001b[0mmodel\u001b[0m\u001b[0;34m,\u001b[0m \u001b[0mobs\u001b[0m\u001b[0;34m,\u001b[0m \u001b[0mdevice\u001b[0m\u001b[0;34m,\u001b[0m \u001b[0mtrain\u001b[0m\u001b[0;34m=\u001b[0m\u001b[0;32mFalse\u001b[0m\u001b[0;34m)\u001b[0m\u001b[0;34m\u001b[0m\u001b[0m\n\u001b[1;32m      7\u001b[0m         \u001b[0mobs\u001b[0m\u001b[0;34m,\u001b[0m \u001b[0mreward\u001b[0m\u001b[0;34m,\u001b[0m \u001b[0mdone\u001b[0m\u001b[0;34m,\u001b[0m \u001b[0minfo\u001b[0m \u001b[0;34m=\u001b[0m \u001b[0menv\u001b[0m\u001b[0;34m.\u001b[0m\u001b[0mstep\u001b[0m\u001b[0;34m(\u001b[0m\u001b[0maction\u001b[0m\u001b[0;34m)\u001b[0m\u001b[0;34m\u001b[0m\u001b[0m\n",
      "\u001b[0;32m/usr/local/lib/python3.5/dist-packages/gym/core.py\u001b[0m in \u001b[0;36mrender\u001b[0;34m(self, mode, **kwargs)\u001b[0m\n\u001b[1;32m    242\u001b[0m \u001b[0;34m\u001b[0m\u001b[0m\n\u001b[1;32m    243\u001b[0m     \u001b[0;32mdef\u001b[0m \u001b[0mrender\u001b[0m\u001b[0;34m(\u001b[0m\u001b[0mself\u001b[0m\u001b[0;34m,\u001b[0m \u001b[0mmode\u001b[0m\u001b[0;34m=\u001b[0m\u001b[0;34m'human'\u001b[0m\u001b[0;34m,\u001b[0m \u001b[0;34m**\u001b[0m\u001b[0mkwargs\u001b[0m\u001b[0;34m)\u001b[0m\u001b[0;34m:\u001b[0m\u001b[0;34m\u001b[0m\u001b[0m\n\u001b[0;32m--> 244\u001b[0;31m         \u001b[0;32mreturn\u001b[0m \u001b[0mself\u001b[0m\u001b[0;34m.\u001b[0m\u001b[0menv\u001b[0m\u001b[0;34m.\u001b[0m\u001b[0mrender\u001b[0m\u001b[0;34m(\u001b[0m\u001b[0mmode\u001b[0m\u001b[0;34m,\u001b[0m \u001b[0;34m**\u001b[0m\u001b[0mkwargs\u001b[0m\u001b[0;34m)\u001b[0m\u001b[0;34m\u001b[0m\u001b[0m\n\u001b[0m\u001b[1;32m    245\u001b[0m \u001b[0;34m\u001b[0m\u001b[0m\n\u001b[1;32m    246\u001b[0m     \u001b[0;32mdef\u001b[0m \u001b[0mclose\u001b[0m\u001b[0;34m(\u001b[0m\u001b[0mself\u001b[0m\u001b[0;34m)\u001b[0m\u001b[0;34m:\u001b[0m\u001b[0;34m\u001b[0m\u001b[0m\n",
      "\u001b[0;32m/usr/local/lib/python3.5/dist-packages/gym/envs/classic_control/cartpole.py\u001b[0m in \u001b[0;36mrender\u001b[0;34m(self, mode)\u001b[0m\n\u001b[1;32m    186\u001b[0m         \u001b[0mself\u001b[0m\u001b[0;34m.\u001b[0m\u001b[0mpoletrans\u001b[0m\u001b[0;34m.\u001b[0m\u001b[0mset_rotation\u001b[0m\u001b[0;34m(\u001b[0m\u001b[0;34m-\u001b[0m\u001b[0mx\u001b[0m\u001b[0;34m[\u001b[0m\u001b[0;36m2\u001b[0m\u001b[0;34m]\u001b[0m\u001b[0;34m)\u001b[0m\u001b[0;34m\u001b[0m\u001b[0m\n\u001b[1;32m    187\u001b[0m \u001b[0;34m\u001b[0m\u001b[0m\n\u001b[0;32m--> 188\u001b[0;31m         \u001b[0;32mreturn\u001b[0m \u001b[0mself\u001b[0m\u001b[0;34m.\u001b[0m\u001b[0mviewer\u001b[0m\u001b[0;34m.\u001b[0m\u001b[0mrender\u001b[0m\u001b[0;34m(\u001b[0m\u001b[0mreturn_rgb_array\u001b[0m \u001b[0;34m=\u001b[0m \u001b[0mmode\u001b[0m\u001b[0;34m==\u001b[0m\u001b[0;34m'rgb_array'\u001b[0m\u001b[0;34m)\u001b[0m\u001b[0;34m\u001b[0m\u001b[0m\n\u001b[0m\u001b[1;32m    189\u001b[0m \u001b[0;34m\u001b[0m\u001b[0m\n\u001b[1;32m    190\u001b[0m     \u001b[0;32mdef\u001b[0m \u001b[0mclose\u001b[0m\u001b[0;34m(\u001b[0m\u001b[0mself\u001b[0m\u001b[0;34m)\u001b[0m\u001b[0;34m:\u001b[0m\u001b[0;34m\u001b[0m\u001b[0m\n",
      "\u001b[0;32m/usr/local/lib/python3.5/dist-packages/gym/envs/classic_control/rendering.py\u001b[0m in \u001b[0;36mrender\u001b[0;34m(self, return_rgb_array)\u001b[0m\n\u001b[1;32m    103\u001b[0m             \u001b[0marr\u001b[0m \u001b[0;34m=\u001b[0m \u001b[0marr\u001b[0m\u001b[0;34m.\u001b[0m\u001b[0mreshape\u001b[0m\u001b[0;34m(\u001b[0m\u001b[0mbuffer\u001b[0m\u001b[0;34m.\u001b[0m\u001b[0mheight\u001b[0m\u001b[0;34m,\u001b[0m \u001b[0mbuffer\u001b[0m\u001b[0;34m.\u001b[0m\u001b[0mwidth\u001b[0m\u001b[0;34m,\u001b[0m \u001b[0;36m4\u001b[0m\u001b[0;34m)\u001b[0m\u001b[0;34m\u001b[0m\u001b[0m\n\u001b[1;32m    104\u001b[0m             \u001b[0marr\u001b[0m \u001b[0;34m=\u001b[0m \u001b[0marr\u001b[0m\u001b[0;34m[\u001b[0m\u001b[0;34m:\u001b[0m\u001b[0;34m:\u001b[0m\u001b[0;34m-\u001b[0m\u001b[0;36m1\u001b[0m\u001b[0;34m,\u001b[0m\u001b[0;34m:\u001b[0m\u001b[0;34m,\u001b[0m\u001b[0;36m0\u001b[0m\u001b[0;34m:\u001b[0m\u001b[0;36m3\u001b[0m\u001b[0;34m]\u001b[0m\u001b[0;34m\u001b[0m\u001b[0m\n\u001b[0;32m--> 105\u001b[0;31m         \u001b[0mself\u001b[0m\u001b[0;34m.\u001b[0m\u001b[0mwindow\u001b[0m\u001b[0;34m.\u001b[0m\u001b[0mflip\u001b[0m\u001b[0;34m(\u001b[0m\u001b[0;34m)\u001b[0m\u001b[0;34m\u001b[0m\u001b[0m\n\u001b[0m\u001b[1;32m    106\u001b[0m         \u001b[0mself\u001b[0m\u001b[0;34m.\u001b[0m\u001b[0monetime_geoms\u001b[0m \u001b[0;34m=\u001b[0m \u001b[0;34m[\u001b[0m\u001b[0;34m]\u001b[0m\u001b[0;34m\u001b[0m\u001b[0m\n\u001b[1;32m    107\u001b[0m         \u001b[0;32mreturn\u001b[0m \u001b[0marr\u001b[0m \u001b[0;32mif\u001b[0m \u001b[0mreturn_rgb_array\u001b[0m \u001b[0;32melse\u001b[0m \u001b[0mself\u001b[0m\u001b[0;34m.\u001b[0m\u001b[0misopen\u001b[0m\u001b[0;34m\u001b[0m\u001b[0m\n",
      "\u001b[0;32m/usr/local/lib/python3.5/dist-packages/pyglet/window/xlib/__init__.py\u001b[0m in \u001b[0;36mflip\u001b[0;34m(self)\u001b[0m\n\u001b[1;32m    504\u001b[0m         \u001b[0;31m# TODO canvas.flip?\u001b[0m\u001b[0;34m\u001b[0m\u001b[0;34m\u001b[0m\u001b[0m\n\u001b[1;32m    505\u001b[0m         \u001b[0;32mif\u001b[0m \u001b[0mself\u001b[0m\u001b[0;34m.\u001b[0m\u001b[0mcontext\u001b[0m\u001b[0;34m:\u001b[0m\u001b[0;34m\u001b[0m\u001b[0m\n\u001b[0;32m--> 506\u001b[0;31m             \u001b[0mself\u001b[0m\u001b[0;34m.\u001b[0m\u001b[0mcontext\u001b[0m\u001b[0;34m.\u001b[0m\u001b[0mflip\u001b[0m\u001b[0;34m(\u001b[0m\u001b[0;34m)\u001b[0m\u001b[0;34m\u001b[0m\u001b[0m\n\u001b[0m\u001b[1;32m    507\u001b[0m \u001b[0;34m\u001b[0m\u001b[0m\n\u001b[1;32m    508\u001b[0m         \u001b[0mself\u001b[0m\u001b[0;34m.\u001b[0m\u001b[0m_sync_resize\u001b[0m\u001b[0;34m(\u001b[0m\u001b[0;34m)\u001b[0m\u001b[0;34m\u001b[0m\u001b[0m\n",
      "\u001b[0;32m/usr/local/lib/python3.5/dist-packages/pyglet/gl/xlib.py\u001b[0m in \u001b[0;36mflip\u001b[0;34m(self)\u001b[0m\n\u001b[1;32m    356\u001b[0m \u001b[0;34m\u001b[0m\u001b[0m\n\u001b[1;32m    357\u001b[0m         \u001b[0;32mif\u001b[0m \u001b[0mself\u001b[0m\u001b[0;34m.\u001b[0m\u001b[0m_vsync\u001b[0m\u001b[0;34m:\u001b[0m\u001b[0;34m\u001b[0m\u001b[0m\n\u001b[0;32m--> 358\u001b[0;31m             \u001b[0mself\u001b[0m\u001b[0;34m.\u001b[0m\u001b[0m_wait_vsync\u001b[0m\u001b[0;34m(\u001b[0m\u001b[0;34m)\u001b[0m\u001b[0;34m\u001b[0m\u001b[0m\n\u001b[0m\u001b[1;32m    359\u001b[0m         \u001b[0mglx\u001b[0m\u001b[0;34m.\u001b[0m\u001b[0mglXSwapBuffers\u001b[0m\u001b[0;34m(\u001b[0m\u001b[0mself\u001b[0m\u001b[0;34m.\u001b[0m\u001b[0mx_display\u001b[0m\u001b[0;34m,\u001b[0m \u001b[0mself\u001b[0m\u001b[0;34m.\u001b[0m\u001b[0mglx_window\u001b[0m\u001b[0;34m)\u001b[0m\u001b[0;34m\u001b[0m\u001b[0m\n\u001b[1;32m    360\u001b[0m \u001b[0;34m\u001b[0m\u001b[0m\n",
      "\u001b[0;32m/usr/local/lib/python3.5/dist-packages/pyglet/gl/xlib.py\u001b[0m in \u001b[0;36m_wait_vsync\u001b[0;34m(self)\u001b[0m\n\u001b[1;32m    238\u001b[0m             \u001b[0mcount\u001b[0m \u001b[0;34m=\u001b[0m \u001b[0mc_uint\u001b[0m\u001b[0;34m(\u001b[0m\u001b[0;34m)\u001b[0m\u001b[0;34m\u001b[0m\u001b[0m\n\u001b[1;32m    239\u001b[0m             \u001b[0mglxext_arb\u001b[0m\u001b[0;34m.\u001b[0m\u001b[0mglXGetVideoSyncSGI\u001b[0m\u001b[0;34m(\u001b[0m\u001b[0mbyref\u001b[0m\u001b[0;34m(\u001b[0m\u001b[0mcount\u001b[0m\u001b[0;34m)\u001b[0m\u001b[0;34m)\u001b[0m\u001b[0;34m\u001b[0m\u001b[0m\n\u001b[0;32m--> 240\u001b[0;31m             \u001b[0mglxext_arb\u001b[0m\u001b[0;34m.\u001b[0m\u001b[0mglXWaitVideoSyncSGI\u001b[0m\u001b[0;34m(\u001b[0m\u001b[0;36m2\u001b[0m\u001b[0;34m,\u001b[0m \u001b[0;34m(\u001b[0m\u001b[0mcount\u001b[0m\u001b[0;34m.\u001b[0m\u001b[0mvalue\u001b[0m \u001b[0;34m+\u001b[0m \u001b[0;36m1\u001b[0m\u001b[0;34m)\u001b[0m \u001b[0;34m%\u001b[0m \u001b[0;36m2\u001b[0m\u001b[0;34m,\u001b[0m \u001b[0mbyref\u001b[0m\u001b[0;34m(\u001b[0m\u001b[0mcount\u001b[0m\u001b[0;34m)\u001b[0m\u001b[0;34m)\u001b[0m\u001b[0;34m\u001b[0m\u001b[0m\n\u001b[0m\u001b[1;32m    241\u001b[0m \u001b[0;34m\u001b[0m\u001b[0m\n\u001b[1;32m    242\u001b[0m \u001b[0;34m\u001b[0m\u001b[0m\n",
      "\u001b[0;31mKeyboardInterrupt\u001b[0m: "
     ]
    }
   ],
   "source": [
    "try:\n",
    "    env.reset()\n",
    "    env._max_episode_steps = 5000\n",
    "    for t in count():\n",
    "        env.render()\n",
    "        action = get_model_action(model, obs, device, train=False)\n",
    "        obs, reward, done, info = env.step(action)\n",
    "        if done:\n",
    "            env.close()\n",
    "            break\n",
    "\n",
    "    print(t)\n",
    "finally:\n",
    "    env.close()\n",
    "    print(t)"
   ]
  },
  {
   "cell_type": "code",
   "execution_count": 351,
   "metadata": {
    "collapsed": true
   },
   "outputs": [],
   "source": [
    "env.close()"
   ]
  },
  {
   "cell_type": "code",
   "execution_count": 470,
   "metadata": {},
   "outputs": [
    {
     "data": {
      "text/plain": [
       "Sequential(\n",
       "  (0): Linear(in_features=4, out_features=32, bias=True)\n",
       "  (1): LeakyReLU(negative_slope=0.01, inplace)\n",
       "  (2): Linear(in_features=32, out_features=2, bias=True)\n",
       "  (3): Sigmoid()\n",
       "  (4): Softmax()\n",
       ")"
      ]
     },
     "execution_count": 470,
     "metadata": {},
     "output_type": "execute_result"
    }
   ],
   "source": [
    "model.to('cpu')"
   ]
  },
  {
   "cell_type": "code",
   "execution_count": 471,
   "metadata": {
    "collapsed": true
   },
   "outputs": [],
   "source": [
    "torch.save(model, 'model.torch')"
   ]
  },
  {
   "cell_type": "code",
   "execution_count": 474,
   "metadata": {},
   "outputs": [],
   "source": [
    "model = torch.load('model.torch')"
   ]
  },
  {
   "cell_type": "code",
   "execution_count": 475,
   "metadata": {},
   "outputs": [
    {
     "data": {
      "text/plain": [
       "Sequential(\n",
       "  (0): Linear(in_features=4, out_features=32, bias=True)\n",
       "  (1): LeakyReLU(negative_slope=0.01, inplace)\n",
       "  (2): Linear(in_features=32, out_features=2, bias=True)\n",
       "  (3): Sigmoid()\n",
       "  (4): Softmax()\n",
       ")"
      ]
     },
     "execution_count": 475,
     "metadata": {},
     "output_type": "execute_result"
    }
   ],
   "source": [
    "model.to(device)"
   ]
  },
  {
   "cell_type": "code",
   "execution_count": null,
   "metadata": {
    "collapsed": true
   },
   "outputs": [],
   "source": []
  }
 ],
 "metadata": {
  "kernelspec": {
   "display_name": "Python 3",
   "language": "python",
   "name": "python3"
  },
  "language_info": {
   "codemirror_mode": {
    "name": "ipython",
    "version": 3
   },
   "file_extension": ".py",
   "mimetype": "text/x-python",
   "name": "python",
   "nbconvert_exporter": "python",
   "pygments_lexer": "ipython3",
   "version": "3.5.2"
  }
 },
 "nbformat": 4,
 "nbformat_minor": 2
}
