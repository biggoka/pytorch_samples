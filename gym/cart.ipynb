{
 "cells": [
  {
   "cell_type": "code",
   "execution_count": 1,
   "metadata": {},
   "outputs": [],
   "source": [
    "import gym\n",
    "import numpy as np\n",
    "import random\n",
    "import torch\n",
    "from itertools import count\n"
   ]
  },
  {
   "cell_type": "code",
   "execution_count": 2,
   "metadata": {},
   "outputs": [],
   "source": [
    "env = gym.make('MountainCar-v0')"
   ]
  },
  {
   "cell_type": "code",
   "execution_count": 3,
   "metadata": {},
   "outputs": [
    {
     "data": {
      "text/plain": [
       "Discrete(3)"
      ]
     },
     "execution_count": 3,
     "metadata": {},
     "output_type": "execute_result"
    }
   ],
   "source": [
    "env.action_space"
   ]
  },
  {
   "cell_type": "code",
   "execution_count": 4,
   "metadata": {},
   "outputs": [
    {
     "data": {
      "text/plain": [
       "Box(2,)"
      ]
     },
     "execution_count": 4,
     "metadata": {},
     "output_type": "execute_result"
    }
   ],
   "source": [
    "env.observation_space"
   ]
  },
  {
   "cell_type": "code",
   "execution_count": 5,
   "metadata": {},
   "outputs": [],
   "source": [
    "device = torch.device('cuda' if torch.cuda.is_available() else 'cpu')\n",
    "device = torch.device('cpu')"
   ]
  },
  {
   "cell_type": "code",
   "execution_count": 6,
   "metadata": {},
   "outputs": [],
   "source": [
    "class Memory():\n",
    "    def __init__(self, capacity=10000):\n",
    "        self.capacity = capacity\n",
    "        self.memory = []\n",
    "        self.short_memory = []\n",
    "        \n",
    "    def push(self, old_state, action, reward, new_state, final):\n",
    "        self.short_memory.append([old_state, action, reward, new_state, final])\n",
    "        \n",
    "    def commit(self, final=True):   \n",
    "        if len(self.memory) + len(self.short_memory) < self.capacity:\n",
    "            self.memory.extend(self.short_memory)\n",
    "        else:\n",
    "            for memo in self.short_memory:\n",
    "                self.memory.insert(random.randint(0, len(self.memory) - 1), memo)\n",
    "                \n",
    "        self.memory = self.memory[:self.capacity]\n",
    "        self.short_memory = []"
   ]
  },
  {
   "cell_type": "code",
   "execution_count": 18,
   "metadata": {},
   "outputs": [],
   "source": [
    "class Qnet(torch.nn.Module):\n",
    "    def __init__(self):\n",
    "        super(Qnet, self).__init__()\n",
    "        self.model = torch.nn.Sequential(\n",
    "            torch.nn.Linear(2, 32),\n",
    "#             torch.nn.LeakyReLU(inplace=True),\n",
    "#             torch.nn.Linear(32, 32),\n",
    "            torch.nn.LeakyReLU(inplace=True),\n",
    "            torch.nn.Linear(32, 3),\n",
    "#             torch.nn.Sigmoid(),\n",
    "        #     torch.nn.Softmax(dim=1),\n",
    "        )\n",
    "    \n",
    "    def forward(self, x):\n",
    "        return self.model(x)\n",
    "\n",
    "policy_net = Qnet().to(device)\n",
    "target_net = Qnet().to(device)\n",
    "\n",
    "target_net.load_state_dict(policy_net.state_dict())\n",
    "\n",
    "optim = torch.optim.Adam(policy_net.parameters(), lr=0.001)\n",
    "# optim = torch.optim.SGD(policy_net.parameters(), lr=0.001)\n",
    "\n",
    "from torch.optim.lr_scheduler import StepLR\n",
    "scheduler = StepLR(optim, step_size=100, gamma=0.84)    "
   ]
  },
  {
   "cell_type": "code",
   "execution_count": 19,
   "metadata": {
    "scrolled": false
   },
   "outputs": [
    {
     "name": "stdout",
     "output_type": "stream",
     "text": [
      "Episode   0:    199.000 iterations, eps=0.898202\n",
      "Episode 100:    199.000 iterations, eps=0.735385\n",
      "Episode 200:    199.000 iterations, eps=0.602081\n",
      "Episode 300:    199.000 iterations, eps=0.492942\n",
      "Episode 400:    199.000 iterations, eps=0.403586\n",
      "Episode 500:    199.000 iterations, eps=0.330428\n",
      "Episode 600:    199.000 iterations, eps=0.270532\n",
      "Episode 700:    199.000 iterations, eps=0.221492\n",
      "Episode 800:    199.000 iterations, eps=0.181342\n",
      "Episode 900:    199.000 iterations, eps=0.148470\n",
      "Episode 1000:    199.000 iterations, eps=0.121557\n",
      "Episode 1100:    199.000 iterations, eps=0.099523\n",
      "Episode 1200:    199.000 iterations, eps=0.081482\n"
     ]
    }
   ],
   "source": [
    "# env = gym.make('CartPole-v0')\n",
    "# env._max_episode_steps = 500\n",
    "\n",
    "EPS = 0.9\n",
    "EPS_MIN = 0.003\n",
    "GAMMA = 0.99999\n",
    "\n",
    "\n",
    "def get_model_action(model, state, device, train=True):\n",
    "    global EPS, EPS_MIN, GAMMA\n",
    "    EPS = EPS * GAMMA\n",
    "    EPS = max(EPS, EPS_MIN)\n",
    "    \n",
    "    if not train or random.random() > EPS:\n",
    "        with torch.no_grad():\n",
    "            model_output = model(torch.FloatTensor(state).to(device).unsqueeze(0)).cpu().detach().numpy()\n",
    "            action = np.argmax(model_output[0])\n",
    "#             print(state, model_output, action)\n",
    "            \n",
    "    else:\n",
    "        action = random.randint(0, 2)\n",
    "    return action\n",
    "\n",
    "def train(model, memory, device):\n",
    "    memory = memory.memory\n",
    "    try:\n",
    "        memory = random.sample(memory, 1024)\n",
    "    except ValueError:\n",
    "        return\n",
    "\n",
    "    s0 = [x[0] for x in memory]\n",
    "    a = [x[1] for x in memory]\n",
    "    r = [x[2] for x in memory]\n",
    "    s1 = [x[3] for x in memory]\n",
    "    done = [1. if x[4] else 0. for x in memory]\n",
    "\n",
    "\n",
    "    s0 = torch.FloatTensor(s0).to(device)\n",
    "    s1 = torch.FloatTensor(s1).to(device)\n",
    "    a = torch.LongTensor(a).to(device)\n",
    "    r = torch.FloatTensor(r).to(device)\n",
    "    done = torch.FloatTensor(done).to(device)\n",
    "\n",
    "    q_values = policy_net(s0)\n",
    "    next_q_values = target_net(s1)\n",
    "    next_q_value = next_q_values.max(1)[0]\n",
    "\n",
    "    q_value = q_values.gather(1, a.unsqueeze(1)).squeeze(1)\n",
    "    expected_q_value = r + 0.999 * next_q_value * (1.0 - done)\n",
    "    # Notice that detach the expected_q_value\n",
    "#     loss = (expected_q_value.detach() - q_value).pow(2).mean()\n",
    "    loss = torch.nn.functional.smooth_l1_loss(expected_q_value.detach(), q_value)\n",
    "\n",
    "    optim.zero_grad()\n",
    "#     torch.nn.utils.clip_grad_norm_(policy_net.parameters(), 1)\n",
    "    loss.backward()\n",
    "    optim.step()\n",
    "\n",
    "        \n",
    "#     scheduler.step()\n",
    "\n",
    "memory = Memory(capacity=100000)  \n",
    "len_mem = []\n",
    "\n",
    "try:\n",
    "    for episode in range(100000):\n",
    "        state = env.reset()\n",
    "\n",
    "        for i in count():\n",
    "#             env.render()\n",
    "\n",
    "            action = get_model_action(policy_net, state, device)\n",
    "            old_state = state\n",
    "            state, reward, done, info = env.step(action)\n",
    "            \n",
    "#             reward = max(0, state[0]*10)\n",
    "            \n",
    "#             reward = -1 + max(0, state[0]*10)\n",
    "    \n",
    "            if not done:\n",
    "                memory.push(old_state, action, reward, state, False)\n",
    "            else:\n",
    "                env.close()\n",
    "                len_mem.append(i)\n",
    "                \n",
    "#                 if state[0] >= 0.59:\n",
    "#                     reward = 100\n",
    "#                     final = False\n",
    "#                 else:\n",
    "#                     final = True\n",
    "                \n",
    "                memory.push(old_state, action, reward, state, True)\n",
    "                memory.commit()\n",
    "                break\n",
    "\n",
    "        \n",
    "        if episode % 100 == 0:\n",
    "            print('Episode {:3d}: {:10.3f} iterations, eps={:6.6f}'.format(episode, np.mean(len_mem[-50:]), EPS))\n",
    "        \n",
    "        train(policy_net, memory, device)\n",
    "        \n",
    "        if episode % 10 == 0:\n",
    "            target_net.load_state_dict(policy_net.state_dict())\n",
    "            \n",
    "    \n",
    "except KeyboardInterrupt:\n",
    "    env.close()"
   ]
  },
  {
   "cell_type": "code",
   "execution_count": 16,
   "metadata": {
    "scrolled": true
   },
   "outputs": [
    {
     "data": {
      "text/plain": [
       "[<matplotlib.lines.Line2D at 0x7f04e415aac8>]"
      ]
     },
     "execution_count": 16,
     "metadata": {},
     "output_type": "execute_result"
    },
    {
     "data": {
      "image/png": "[encoded data removed]",
      "text/plain": [
       "<matplotlib.figure.Figure at 0x7f04eee847f0>"
      ]
     },
     "metadata": {},
     "output_type": "display_data"
    }
   ],
   "source": [
    "import matplotlib.pyplot as plt\n",
    "%matplotlib inline\n",
    "\n",
    "\n",
    "plt.figure()\n",
    "plt.plot(len_mem, 'o')"
   ]
  },
  {
   "cell_type": "code",
   "execution_count": 17,
   "metadata": {
    "scrolled": false
   },
   "outputs": [
    {
     "name": "stdout",
     "output_type": "stream",
     "text": [
      "0\n",
      "199\n",
      "199\n"
     ]
    }
   ],
   "source": [
    "try:\n",
    "#     env.seed = random.randint(0, 100000)\n",
    "    obs = env.reset()\n",
    "#     env._max_episode_steps = 100000\n",
    "    for t in count():\n",
    "        \n",
    "        if t % 500 == 0:\n",
    "            print(t)\n",
    "        \n",
    "        env.render()\n",
    "        global EPS\n",
    "        EPS = 0.95\n",
    "        action = get_model_action(policy_net, obs, device, train=False)\n",
    "        obs, reward, done, info = env.step(action)\n",
    "        if done:\n",
    "            env.close()\n",
    "            break\n",
    "\n",
    "    print(t)\n",
    "except KeyboardInterrupt:\n",
    "    pass\n",
    "finally:\n",
    "    env.close()\n",
    "    print(t)"
   ]
  },
  {
   "cell_type": "code",
   "execution_count": 20,
   "metadata": {
    "collapsed": true
   },
   "outputs": [],
   "source": [
    "model = policy_net"
   ]
  },
  {
   "cell_type": "code",
   "execution_count": 21,
   "metadata": {},
   "outputs": [
    {
     "data": {
      "text/plain": [
       "Qnet(\n",
       "  (model): Sequential(\n",
       "    (0): Linear(in_features=2, out_features=32, bias=True)\n",
       "    (1): LeakyReLU(negative_slope=0.01, inplace)\n",
       "    (2): Linear(in_features=32, out_features=3, bias=True)\n",
       "  )\n",
       ")"
      ]
     },
     "execution_count": 21,
     "metadata": {},
     "output_type": "execute_result"
    }
   ],
   "source": [
    "model.to('cpu')"
   ]
  },
  {
   "cell_type": "code",
   "execution_count": 22,
   "metadata": {},
   "outputs": [
    {
     "name": "stderr",
     "output_type": "stream",
     "text": [
      "/usr/local/lib/python3.5/dist-packages/torch/serialization.py:251: UserWarning: Couldn't retrieve source code for container of type Qnet. It won't be checked for correctness upon loading.\n",
      "  \"type \" + obj.__name__ + \". It won't be checked \"\n"
     ]
    }
   ],
   "source": [
    "torch.save(model, 'cart.torch')"
   ]
  },
  {
   "cell_type": "code",
   "execution_count": 9,
   "metadata": {},
   "outputs": [],
   "source": [
    "model = torch.load('cart.torch')"
   ]
  },
  {
   "cell_type": "code",
   "execution_count": 10,
   "metadata": {},
   "outputs": [
    {
     "data": {
      "text/plain": [
       "Qnet(\n",
       "  (model): Sequential(\n",
       "    (0): Linear(in_features=2, out_features=32, bias=True)\n",
       "    (1): LeakyReLU(negative_slope=0.01, inplace)\n",
       "    (2): Linear(in_features=32, out_features=3, bias=True)\n",
       "  )\n",
       ")"
      ]
     },
     "execution_count": 10,
     "metadata": {},
     "output_type": "execute_result"
    }
   ],
   "source": [
    "model.to(device)"
   ]
  },
  {
   "cell_type": "code",
   "execution_count": 11,
   "metadata": {},
   "outputs": [],
   "source": [
    "policy_net = model"
   ]
  },
  {
   "cell_type": "code",
   "execution_count": null,
   "metadata": {
    "collapsed": true
   },
   "outputs": [],
   "source": []
  }
 ],
 "metadata": {
  "kernelspec": {
   "display_name": "Python 3",
   "language": "python",
   "name": "python3"
  },
  "language_info": {
   "codemirror_mode": {
    "name": "ipython",
    "version": 3
   },
   "file_extension": ".py",
   "mimetype": "text/x-python",
   "name": "python",
   "nbconvert_exporter": "python",
   "pygments_lexer": "ipython3",
   "version": "3.5.2"
  }
 },
 "nbformat": 4,
 "nbformat_minor": 2
}
